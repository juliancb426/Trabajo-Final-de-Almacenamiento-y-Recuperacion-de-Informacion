{
 "cells": [
  {
   "cell_type": "markdown",
   "metadata": {},
   "source": [
    "# Maestria en Ciencia de los Datos y Analitica\n",
    "\n",
    "## Proyecto Final Almacenamiento y Recuperación de Información\n",
    "\n",
    "## Integrantes:\n",
    "\n",
    "### Diana Catalina Velasquez Gaviria\n",
    "### Juan Camilo Cebellos Arias\n",
    "### Juan Sevastian Moreno Zapata\n",
    "### Julian Castelblanco Benitez\n",
    "### Santiago Aristizabal Toro"
   ]
  },
  {
   "cell_type": "markdown",
   "metadata": {},
   "source": [
    "## Tokenizacion y recuperación de información"
   ]
  },
  {
   "cell_type": "code",
   "execution_count": 1,
   "metadata": {},
   "outputs": [],
   "source": [
    "import metapy\n",
    "import pandas as pd\n",
    "import wget"
   ]
  },
  {
   "cell_type": "markdown",
   "metadata": {},
   "source": [
    "## Lectura de noticias"
   ]
  },
  {
   "cell_type": "code",
   "execution_count": 2,
   "metadata": {},
   "outputs": [
    {
     "data": {
      "text/plain": [
       "(142570, 10)"
      ]
     },
     "execution_count": 2,
     "metadata": {},
     "output_type": "execute_result"
    }
   ],
   "source": [
    "data = pd.read_csv('news.csv', sep=',')\n",
    "data.head()\n",
    "data.shape\n"
   ]
  },
  {
   "cell_type": "code",
   "execution_count": 3,
   "metadata": {},
   "outputs": [
    {
     "name": "stdout",
     "output_type": "stream",
     "text": [
      "142570\n",
      "count        142570\n",
      "unique           15\n",
      "top       Breitbart\n",
      "freq          23781\n",
      "Name: publication, dtype: object\n"
     ]
    }
   ],
   "source": [
    "print(len(data))\n",
    "print(data['publication'].describe())"
   ]
  },
  {
   "cell_type": "code",
   "execution_count": 4,
   "metadata": {},
   "outputs": [
    {
     "name": "stdout",
     "output_type": "stream",
     "text": [
      "count     142568\n",
      "unique    142132\n",
      "top             \n",
      "freq          12\n",
      "Name: title, dtype: object\n"
     ]
    }
   ],
   "source": [
    "print(data['title'].describe())"
   ]
  },
  {
   "cell_type": "code",
   "execution_count": 5,
   "metadata": {},
   "outputs": [
    {
     "name": "stdout",
     "output_type": "stream",
     "text": [
      "count             126694\n",
      "unique             15647\n",
      "top       Breitbart News\n",
      "freq                1559\n",
      "Name: author, dtype: object\n"
     ]
    }
   ],
   "source": [
    "print(data['author'].describe())"
   ]
  },
  {
   "cell_type": "markdown",
   "metadata": {},
   "source": [
    "## Selección de las columnas objetivo"
   ]
  },
  {
   "cell_type": "code",
   "execution_count": 6,
   "metadata": {},
   "outputs": [
    {
     "data": {
      "text/html": [
       "<div>\n",
       "<style scoped>\n",
       "    .dataframe tbody tr th:only-of-type {\n",
       "        vertical-align: middle;\n",
       "    }\n",
       "\n",
       "    .dataframe tbody tr th {\n",
       "        vertical-align: top;\n",
       "    }\n",
       "\n",
       "    .dataframe thead th {\n",
       "        text-align: right;\n",
       "    }\n",
       "</style>\n",
       "<table border=\"1\" class=\"dataframe\">\n",
       "  <thead>\n",
       "    <tr style=\"text-align: right;\">\n",
       "      <th></th>\n",
       "      <th>title</th>\n",
       "      <th>author</th>\n",
       "      <th>content</th>\n",
       "    </tr>\n",
       "  </thead>\n",
       "  <tbody>\n",
       "    <tr>\n",
       "      <th>0</th>\n",
       "      <td>House Republicans Fret About Winning Their Hea...</td>\n",
       "      <td>Carl Hulse</td>\n",
       "      <td>WASHINGTON  —   Congressional Republicans have...</td>\n",
       "    </tr>\n",
       "    <tr>\n",
       "      <th>1</th>\n",
       "      <td>Rift Between Officers and Residents as Killing...</td>\n",
       "      <td>Benjamin Mueller and Al Baker</td>\n",
       "      <td>After the bullet shells get counted, the blood...</td>\n",
       "    </tr>\n",
       "    <tr>\n",
       "      <th>2</th>\n",
       "      <td>Tyrus Wong, ‘Bambi’ Artist Thwarted by Racial ...</td>\n",
       "      <td>Margalit Fox</td>\n",
       "      <td>When Walt Disney’s “Bambi” opened in 1942, cri...</td>\n",
       "    </tr>\n",
       "    <tr>\n",
       "      <th>3</th>\n",
       "      <td>Among Deaths in 2016, a Heavy Toll in Pop Musi...</td>\n",
       "      <td>William McDonald</td>\n",
       "      <td>Death may be the great equalizer, but it isn’t...</td>\n",
       "    </tr>\n",
       "    <tr>\n",
       "      <th>4</th>\n",
       "      <td>Kim Jong-un Says North Korea Is Preparing to T...</td>\n",
       "      <td>Choe Sang-Hun</td>\n",
       "      <td>SEOUL, South Korea  —   North Korea’s leader, ...</td>\n",
       "    </tr>\n",
       "  </tbody>\n",
       "</table>\n",
       "</div>"
      ],
      "text/plain": [
       "                                               title  \\\n",
       "0  House Republicans Fret About Winning Their Hea...   \n",
       "1  Rift Between Officers and Residents as Killing...   \n",
       "2  Tyrus Wong, ‘Bambi’ Artist Thwarted by Racial ...   \n",
       "3  Among Deaths in 2016, a Heavy Toll in Pop Musi...   \n",
       "4  Kim Jong-un Says North Korea Is Preparing to T...   \n",
       "\n",
       "                          author  \\\n",
       "0                     Carl Hulse   \n",
       "1  Benjamin Mueller and Al Baker   \n",
       "2                   Margalit Fox   \n",
       "3               William McDonald   \n",
       "4                  Choe Sang-Hun   \n",
       "\n",
       "                                             content  \n",
       "0  WASHINGTON  —   Congressional Republicans have...  \n",
       "1  After the bullet shells get counted, the blood...  \n",
       "2  When Walt Disney’s “Bambi” opened in 1942, cri...  \n",
       "3  Death may be the great equalizer, but it isn’t...  \n",
       "4  SEOUL, South Korea  —   North Korea’s leader, ...  "
      ]
     },
     "execution_count": 6,
     "metadata": {},
     "output_type": "execute_result"
    }
   ],
   "source": [
    "df = pd.DataFrame(data, columns = ['title', 'author','content'])\n",
    "df.head()"
   ]
  },
  {
   "cell_type": "markdown",
   "metadata": {},
   "source": [
    "### Concatenación de las columnas seleccionadas"
   ]
  },
  {
   "cell_type": "code",
   "execution_count": 7,
   "metadata": {},
   "outputs": [
    {
     "data": {
      "text/html": [
       "<div>\n",
       "<style scoped>\n",
       "    .dataframe tbody tr th:only-of-type {\n",
       "        vertical-align: middle;\n",
       "    }\n",
       "\n",
       "    .dataframe tbody tr th {\n",
       "        vertical-align: top;\n",
       "    }\n",
       "\n",
       "    .dataframe thead th {\n",
       "        text-align: right;\n",
       "    }\n",
       "</style>\n",
       "<table border=\"1\" class=\"dataframe\">\n",
       "  <thead>\n",
       "    <tr style=\"text-align: right;\">\n",
       "      <th></th>\n",
       "      <th>documents</th>\n",
       "    </tr>\n",
       "  </thead>\n",
       "  <tbody>\n",
       "    <tr>\n",
       "      <th>0</th>\n",
       "      <td>House Republicans Fret About Winning Their Hea...</td>\n",
       "    </tr>\n",
       "    <tr>\n",
       "      <th>1</th>\n",
       "      <td>Rift Between Officers and Residents as Killing...</td>\n",
       "    </tr>\n",
       "    <tr>\n",
       "      <th>2</th>\n",
       "      <td>Tyrus Wong, ‘Bambi’ Artist Thwarted by Racial ...</td>\n",
       "    </tr>\n",
       "    <tr>\n",
       "      <th>3</th>\n",
       "      <td>Among Deaths in 2016, a Heavy Toll in Pop Musi...</td>\n",
       "    </tr>\n",
       "    <tr>\n",
       "      <th>4</th>\n",
       "      <td>Kim Jong-un Says North Korea Is Preparing to T...</td>\n",
       "    </tr>\n",
       "  </tbody>\n",
       "</table>\n",
       "</div>"
      ],
      "text/plain": [
       "                                           documents\n",
       "0  House Republicans Fret About Winning Their Hea...\n",
       "1  Rift Between Officers and Residents as Killing...\n",
       "2  Tyrus Wong, ‘Bambi’ Artist Thwarted by Racial ...\n",
       "3  Among Deaths in 2016, a Heavy Toll in Pop Musi...\n",
       "4  Kim Jong-un Says North Korea Is Preparing to T..."
      ]
     },
     "execution_count": 7,
     "metadata": {},
     "output_type": "execute_result"
    }
   ],
   "source": [
    "ndata = pd.DataFrame(df['title'] + ' ' + df['author'] + ' ' + df['content'], columns=['documents'])\n",
    "ndata.head()"
   ]
  },
  {
   "cell_type": "code",
   "execution_count": 8,
   "metadata": {},
   "outputs": [],
   "source": [
    "ndata.to_csv('./data/documents/documents.dat', header=None, index=None)"
   ]
  },
  {
   "cell_type": "code",
   "execution_count": 9,
   "metadata": {},
   "outputs": [],
   "source": [
    "idx=metapy.index.make_inverted_index('./Config/config.toml')"
   ]
  },
  {
   "cell_type": "code",
   "execution_count": 10,
   "metadata": {},
   "outputs": [
    {
     "data": {
      "text/plain": [
       "142790"
      ]
     },
     "execution_count": 10,
     "metadata": {},
     "output_type": "execute_result"
    }
   ],
   "source": [
    "idx.num_docs()"
   ]
  },
  {
   "cell_type": "markdown",
   "metadata": {},
   "source": [
    "# Terminos unicos\n"
   ]
  },
  {
   "cell_type": "code",
   "execution_count": 11,
   "metadata": {},
   "outputs": [
    {
     "data": {
      "text/plain": [
       "314390"
      ]
     },
     "execution_count": 11,
     "metadata": {},
     "output_type": "execute_result"
    }
   ],
   "source": [
    "idx.unique_terms()"
   ]
  },
  {
   "cell_type": "code",
   "execution_count": 12,
   "metadata": {},
   "outputs": [
    {
     "data": {
      "text/plain": [
       "409.7702941894531"
      ]
     },
     "execution_count": 12,
     "metadata": {},
     "output_type": "execute_result"
    }
   ],
   "source": [
    "idx.avg_doc_length()"
   ]
  },
  {
   "cell_type": "code",
   "execution_count": 13,
   "metadata": {},
   "outputs": [
    {
     "data": {
      "text/plain": [
       "58511099"
      ]
     },
     "execution_count": 13,
     "metadata": {},
     "output_type": "execute_result"
    }
   ],
   "source": [
    "idx.total_corpus_terms()"
   ]
  },
  {
   "cell_type": "code",
   "execution_count": 14,
   "metadata": {},
   "outputs": [],
   "source": [
    "ranker = metapy.index.OkapiBM25()"
   ]
  },
  {
   "cell_type": "markdown",
   "metadata": {},
   "source": [
    "## Ejecución de la Consulta (Query)"
   ]
  },
  {
   "cell_type": "code",
   "execution_count": 15,
   "metadata": {},
   "outputs": [],
   "source": [
    "query = metapy.index.Document()\n",
    "query.content('Carl Hulse') "
   ]
  },
  {
   "cell_type": "code",
   "execution_count": 16,
   "metadata": {},
   "outputs": [
    {
     "data": {
      "text/plain": [
       "[(139230, 15.726676940917969),\n",
       " (776, 14.231730461120605),\n",
       " (136488, 13.775187492370605),\n",
       " (49858, 13.736804962158203),\n",
       " (2971, 12.481700897216797)]"
      ]
     },
     "execution_count": 16,
     "metadata": {},
     "output_type": "execute_result"
    }
   ],
   "source": [
    "top_docs = ranker.score(idx, query, num_results=5)\n",
    "top_docs"
   ]
  },
  {
   "cell_type": "markdown",
   "metadata": {},
   "source": [
    "## Resultado de la Consulta"
   ]
  },
  {
   "cell_type": "code",
   "execution_count": 17,
   "metadata": {},
   "outputs": [
    {
     "name": "stdout",
     "output_type": "stream",
     "text": [
      "1.\"Surprised by Luke Russert’s departure from NBC? Here’s what Chuck Todd said a couple weeks ago. Callum Borchers      In a surprise move, NBC News Capitol Hill correspondent Luke Russert said Wednesday he is leaving the network in the middle of an el...\n",
      "\n",
      "2.\"‘The Daily’: Making Sense of the Gorsuch Pick - The New York Times Michael Barbaro On the eve of our debut episode of “The Daily,” President Trump delivered a major news story. For his first Supreme Court nomination, he selected Neil M. Gorsuch, a c...\n",
      "\n",
      "3.\"The 5 ways Senate Republicans are talking about the Supreme Court vacancy Amber Phillips        As the Senate returns to work Monday for the first time since Supreme Court Justice Antonin Scalia’s death, Senate Republicans have a major decision on t...\n",
      "\n",
      "4.\"The Atlantic  Politics & Policy Daily: Congress Clocks In Candice Norwood         This article is part of a feature we also send out via email as Politics  Policy Daily, a daily roundup of events and ideas in American politics written specially for ...\n",
      "\n",
      "5.\"Republicans, Who Warned of Dithering on Ebola, Now Hesitate on Zika - The New York Times Carl Hulse WASHINGTON  —   Lawmakers say Washington is dithering while a dangerous epidemic threatens American shores. They suggest darkly that the government i...\n",
      "\n"
     ]
    }
   ],
   "source": [
    "for num, (d_id, _) in enumerate(top_docs):\n",
    "    content = idx.metadata(d_id).get('content')\n",
    "    print(\"{}.{}...\\n\".format(num + 1, content[0:250]))"
   ]
  },
  {
   "cell_type": "markdown",
   "metadata": {},
   "source": [
    "## Inicialización Topic Detection"
   ]
  },
  {
   "cell_type": "code",
   "execution_count": 1,
   "metadata": {},
   "outputs": [],
   "source": [
    "from pyspark.sql.types import *\n",
    "from pyspark.sql.functions import monotonically_increasing_id, col, expr, when, concat, lit, isnan\n",
    "from pyspark.ml.linalg import Vectors\n",
    "from pyspark.ml.regression import GeneralizedLinearRegression\n",
    "from pyspark.ml.classification import RandomForestClassifier, LogisticRegression\n",
    "from pyspark.ml.feature import VectorIndexer, VectorAssembler, StringIndexer, OneHotEncoder\n",
    "from pyspark.ml.evaluation import MulticlassClassificationEvaluator, RegressionEvaluator, BinaryClassificationEvaluator\n",
    "from pyspark.ml import Pipeline\n",
    "import pyspark"
   ]
  },
  {
   "cell_type": "code",
   "execution_count": 2,
   "metadata": {},
   "outputs": [],
   "source": [
    "from pyspark.context import SparkContext\n",
    "from pyspark.sql.session import SparkSession\n",
    "sc = SparkContext('local', \"app-topic-detection\") \n",
    "spark = SparkSession(sc)\n"
   ]
  },
  {
   "cell_type": "markdown",
   "metadata": {},
   "source": [
    "## Lectura de las noticias"
   ]
  },
  {
   "cell_type": "code",
   "execution_count": 3,
   "metadata": {},
   "outputs": [
    {
     "name": "stdout",
     "output_type": "stream",
     "text": [
      "+---+-------+--------------------+--------------+--------------------+----------+------+-----+----+--------------------+\n",
      "| id|id_news|               title|   publication|              author|      date|  year|month| url|             content|\n",
      "+---+-------+--------------------+--------------+--------------------+----------+------+-----+----+--------------------+\n",
      "|  0|  17283|House Republicans...|New York Times|          Carl Hulse|2016-12-31|2016.0| 12.0|null|WASHINGTON  —   C...|\n",
      "|  1|  17284|Rift Between Offi...|New York Times|Benjamin Mueller ...|2017-06-19|2017.0|  6.0|null|After the bullet ...|\n",
      "|  2|  17285|Tyrus Wong, ‘Bamb...|New York Times|        Margalit Fox|2017-01-06|2017.0|  1.0|null|When Walt Disney’...|\n",
      "|  3|  17286|Among Deaths in 2...|New York Times|    William McDonald|2017-04-10|2017.0|  4.0|null|Death may be the ...|\n",
      "|  4|  17287|Kim Jong-un Says ...|New York Times|       Choe Sang-Hun|2017-01-02|2017.0|  1.0|null|SEOUL, South Kore...|\n",
      "|  5|  17288|Sick With a Cold,...|New York Times|         Sewell Chan|2017-01-02|2017.0|  1.0|null|LONDON  —   Queen...|\n",
      "|  6|  17289|Taiwan’s Presiden...|New York Times| Javier C. Hernández|2017-01-02|2017.0|  1.0|null|BEIJING  —   Pres...|\n",
      "|  7|  17290|After ‘The Bigges...|New York Times|         Gina Kolata|2017-02-08|2017.0|  2.0|null|Danny Cahill stoo...|\n",
      "|  8|  17291|First, a Mixtape....|New York Times|    Katherine Rosman|2016-12-31|2016.0| 12.0|null|Just how   is Hil...|\n",
      "|  9|  17292|Calling on Angels...|New York Times|         Andy Newman|2016-12-31|2016.0| 12.0|null|Angels are everyw...|\n",
      "+---+-------+--------------------+--------------+--------------------+----------+------+-----+----+--------------------+\n",
      "only showing top 10 rows\n",
      "\n"
     ]
    }
   ],
   "source": [
    "df=spark.read.csv(\"./Trabajo_Meta/news.csv\", inferSchema=True, header= True)\n",
    "df.show(10)"
   ]
  },
  {
   "cell_type": "code",
   "execution_count": 4,
   "metadata": {},
   "outputs": [
    {
     "name": "stdout",
     "output_type": "stream",
     "text": [
      "+-------+--------------------+--------------------+\n",
      "|id_news|               title|             content|\n",
      "+-------+--------------------+--------------------+\n",
      "|  17283|House Republicans...|WASHINGTON  —   C...|\n",
      "|  17284|Rift Between Offi...|After the bullet ...|\n",
      "|  17285|Tyrus Wong, ‘Bamb...|When Walt Disney’...|\n",
      "|  17286|Among Deaths in 2...|Death may be the ...|\n",
      "|  17287|Kim Jong-un Says ...|SEOUL, South Kore...|\n",
      "|  17288|Sick With a Cold,...|LONDON  —   Queen...|\n",
      "|  17289|Taiwan’s Presiden...|BEIJING  —   Pres...|\n",
      "|  17290|After ‘The Bigges...|Danny Cahill stoo...|\n",
      "|  17291|First, a Mixtape....|Just how   is Hil...|\n",
      "|  17292|Calling on Angels...|Angels are everyw...|\n",
      "|  17293|Weak Federal Powe...|With Donald J. Tr...|\n",
      "|  17294|Can Carbon Captur...|THOMPSONS, Tex.  ...|\n",
      "|  17295|Mar-a-Lago, the F...|WEST PALM BEACH, ...|\n",
      "|  17296|How to form healt...|This article is p...|\n",
      "|  17297|Turning Your Vaca...|It’s the season f...|\n",
      "|  17298|As Second Avenue ...|Finally. The Seco...|\n",
      "|  17300|Dylann Roof Himse...|  pages into the ...|\n",
      "|  17301|Modi’s Cash Ban B...|MUMBAI, India  — ...|\n",
      "|  17302|Suicide Bombing i...|BAGHDAD  —   A su...|\n",
      "|  17303|Fecal Pollution T...|SYDNEY, Australia...|\n",
      "+-------+--------------------+--------------------+\n",
      "only showing top 20 rows\n",
      "\n"
     ]
    }
   ],
   "source": [
    "df.createOrReplaceTempView(\"train_df\")\n",
    "sqlDF = spark.sql(\"SELECT id_news,title,content FROM train_df\")\n",
    "sqlDF.show()"
   ]
  },
  {
   "cell_type": "code",
   "execution_count": 5,
   "metadata": {},
   "outputs": [],
   "source": [
    "import nltk\n",
    "import pandas as pd\n",
    "import numpy as np\n",
    "import re\n",
    "import codecs\n",
    "import matplotlib.pyplot as plt"
   ]
  },
  {
   "cell_type": "code",
   "execution_count": 6,
   "metadata": {},
   "outputs": [
    {
     "name": "stderr",
     "output_type": "stream",
     "text": [
      "[nltk_data] Downloading package punkt to\n",
      "[nltk_data]     C:\\Users\\julia\\AppData\\Roaming\\nltk_data...\n",
      "[nltk_data]   Package punkt is already up-to-date!\n",
      "[nltk_data] Downloading package stopwords to\n",
      "[nltk_data]     C:\\Users\\julia\\AppData\\Roaming\\nltk_data...\n",
      "[nltk_data]   Package stopwords is already up-to-date!\n"
     ]
    },
    {
     "data": {
      "text/plain": [
       "True"
      ]
     },
     "execution_count": 6,
     "metadata": {},
     "output_type": "execute_result"
    }
   ],
   "source": [
    "nltk.download('punkt')\n",
    "nltk.download('stopwords')"
   ]
  },
  {
   "cell_type": "code",
   "execution_count": 7,
   "metadata": {},
   "outputs": [],
   "source": [
    "# stopwords en nltk\n",
    "from nltk.corpus import stopwords\n",
    " \n",
    "stop_words_nltk = set(stopwords.words('english'))"
   ]
  },
  {
   "cell_type": "code",
   "execution_count": 8,
   "metadata": {},
   "outputs": [],
   "source": [
    "from pyspark.ml.feature import HashingTF, IDF, Tokenizer, CountVectorizer\n",
    "from pyspark.sql.types import *\n",
    "from pyspark.sql.functions import *\n",
    "from pyspark.ml.linalg import Vectors, SparseVector\n",
    "from pyspark.ml.clustering import LDA, BisectingKMeans\n",
    "from pyspark.sql.functions import monotonically_increasing_id\n",
    "import re"
   ]
  },
  {
   "cell_type": "code",
   "execution_count": 9,
   "metadata": {},
   "outputs": [
    {
     "name": "stdout",
     "output_type": "stream",
     "text": [
      "root\n",
      " |-- id_news: string (nullable = true)\n",
      " |-- title: string (nullable = true)\n",
      " |-- content: string (nullable = true)\n",
      "\n",
      "+-------+--------------------+--------------------+---+\n",
      "|id_news|               title|             content|uid|\n",
      "+-------+--------------------+--------------------+---+\n",
      "|  17283|House Republicans...|WASHINGTON  —   C...|  0|\n",
      "|  17284|Rift Between Offi...|After the bullet ...|  1|\n",
      "|  17285|Tyrus Wong, ‘Bamb...|When Walt Disney’...|  2|\n",
      "|  17286|Among Deaths in 2...|Death may be the ...|  3|\n",
      "|  17287|Kim Jong-un Says ...|SEOUL, South Kore...|  4|\n",
      "|  17288|Sick With a Cold,...|LONDON  —   Queen...|  5|\n",
      "|  17289|Taiwan’s Presiden...|BEIJING  —   Pres...|  6|\n",
      "|  17290|After ‘The Bigges...|Danny Cahill stoo...|  7|\n",
      "|  17291|First, a Mixtape....|Just how   is Hil...|  8|\n",
      "|  17292|Calling on Angels...|Angels are everyw...|  9|\n",
      "+-------+--------------------+--------------------+---+\n",
      "only showing top 10 rows\n",
      "\n",
      "('id_news', 'string')\n",
      "('title', 'string')\n",
      "('content', 'string')\n",
      "('uid', 'bigint')\n"
     ]
    }
   ],
   "source": [
    "rawdata = sqlDF\n",
    "rawdata.printSchema()\n",
    "rawdata[0]\n",
    "rawdata = rawdata.fillna({'content': ''})                               # Replace nulls with blank string\n",
    "\n",
    "# Add Unique ID\n",
    "rawdata = rawdata.withColumn(\"uid\", monotonically_increasing_id())     # Create Unique ID\n",
    "\n",
    "# Show rawdata (as DataFrame)\n",
    "rawdata.show(10)\n",
    "\n",
    "# Print data types\n",
    "for type in rawdata.dtypes:\n",
    "    print(type)\n"
   ]
  },
  {
   "cell_type": "markdown",
   "metadata": {},
   "source": [
    "## Limpieza del DataSet"
   ]
  },
  {
   "cell_type": "code",
   "execution_count": 10,
   "metadata": {},
   "outputs": [],
   "source": [
    "################################################################################################\n",
    "#\n",
    "#   Text Pre-processing (consider using one or all of the following):\n",
    "#       - Remove common words (with stoplist)\n",
    "#       - Handle punctuation\n",
    "#       - lowcase/upcase\n",
    "#       - Stemming\n",
    "#       - Part-of-Speech Tagging (nouns, verbs, adj, etc.)\n",
    "#\n",
    "################################################################################################\n",
    "\n",
    "def cleanup_text(record):\n",
    "    text  = record[2]\n",
    "    uid   = record[3]\n",
    "    words = text.split()\n",
    "    \n",
    "    # Default list of Stopwords\n",
    "    stopwords_core = ['a', u'about', u'above', u'after', u'again', u'against', u'all', u'am', u'an', u'and', u'any', u'are', u'arent', u'as', u'at', \n",
    "    u'be', u'because', u'been', u'before', u'being', u'below', u'between', u'both', u'but', u'by', \n",
    "    u'can', 'cant', 'come', u'could', 'couldnt', \n",
    "    u'd', u'did', u'didn', u'do', u'does', u'doesnt', u'doing', u'dont', u'down', u'during', \n",
    "    u'each', \n",
    "    u'few', 'finally', u'for', u'from', u'further', \n",
    "    u'had', u'hadnt', u'has', u'hasnt', u'have', u'havent', u'having', u'he', u'her', u'here', u'hers', u'herself', u'him', u'himself', u'his', u'how', \n",
    "    u'i', u'if', u'in', u'into', u'is', u'isnt', u'it', u'its', u'itself', \n",
    "    u'just', \n",
    "    u'll', \n",
    "    u'm', u'me', u'might', u'more', u'most', u'must', u'my', u'myself', \n",
    "    u'no', u'nor', u'not', u'now', \n",
    "    u'o', u'of', u'off', u'on', u'once', u'only', u'or', u'other', u'our', u'ours', u'ourselves', u'out', u'over', u'own', \n",
    "    u'r', u're', \n",
    "    u's', 'said', u'same', u'she', u'should', u'shouldnt', u'so', u'some', u'such', \n",
    "    u't', u'than', u'that', 'thats', u'the', u'their', u'theirs', u'them', u'themselves', u'then', u'there', u'these', u'they', u'this', u'those', u'through', u'to', u'too', \n",
    "    u'under', u'until', u'up', \n",
    "    u'very', \n",
    "    u'was', u'wasnt', u'we', u'were', u'werent', u'what', u'when', u'where', u'which', u'while', u'who', u'whom', u'why', u'will', u'with', u'wont', u'would', \n",
    "    u'y', u'you', u'your', u'yours', u'yourself', u'yourselves']\n",
    "    \n",
    "    # Custom List of Stopwords - Add your own here\n",
    "    stopwords_custom = ['']\n",
    "    stopwords = stopwords_core + stopwords_custom\n",
    "    stopwords = [word.lower() for word in stopwords]    \n",
    "    \n",
    "    text_out = [re.sub('[^a-zA-Z0-9]','',word) for word in words]                                       # Remove special characters\n",
    "    text_out = [word.lower() for word in text_out if len(word)>2 and word.lower() not in stopwords]     # Remove stopwords and words under X length\n",
    "    return text_out\n",
    "\n",
    "udf_cleantext = udf(cleanup_text , ArrayType(StringType()))\n",
    "clean_text = rawdata.withColumn(\"words\", udf_cleantext(struct([rawdata[x] for x in rawdata.columns])))\n",
    "\n",
    "#tokenizer = Tokenizer(inputCol=\"description\", outputCol=\"words\")\n",
    "#wordsData = tokenizer.transform(text)"
   ]
  },
  {
   "cell_type": "code",
   "execution_count": 11,
   "metadata": {},
   "outputs": [],
   "source": [
    "# Term Frequency Vectorization  - Option 1 (Using hashingTF): \n",
    "#hashingTF = HashingTF(inputCol=\"words\", outputCol=\"rawFeatures\", numFeatures=20)\n",
    "#featurizedData = hashingTF.transform(clean_text)\n",
    "\n",
    "# Term Frequency Vectorization  - Option 2 (CountVectorizer)    : \n",
    "cv = CountVectorizer(inputCol=\"words\", outputCol=\"rawFeatures\", vocabSize = 1000)\n",
    "cvmodel = cv.fit(clean_text)\n",
    "featurizedData = cvmodel.transform(clean_text)\n",
    "\n",
    "vocab = cvmodel.vocabulary\n",
    "vocab_broadcast = sc.broadcast(vocab)\n",
    "\n",
    "idf = IDF(inputCol=\"rawFeatures\", outputCol=\"features\")\n",
    "idfModel = idf.fit(featurizedData)\n",
    "rescaledData = idfModel.transform(featurizedData)"
   ]
  },
  {
   "cell_type": "markdown",
   "metadata": {},
   "source": [
    "# Modelo LDA\n",
    "\n",
    "\"Es un modelo estadístico generativo que permite que los grupos de observaciones no expliquen conjuntos de observaciones que explican por qué algunas partes de los datos son similares. Por ejemplo, si las observaciones son palabras recopiladas en documentos, se postula que cada documento es una mezcla de un pequeño número de temas y que la presencia de cada palabra es atribuible a uno de los temas del documento\"."
   ]
  },
  {
   "cell_type": "code",
   "execution_count": 12,
   "metadata": {},
   "outputs": [
    {
     "name": "stdout",
     "output_type": "stream",
     "text": [
      "+-----+---------------------------------------------------------------------------------------------+\n",
      "|topic|topic_desc                                                                                   |\n",
      "+-----+---------------------------------------------------------------------------------------------+\n",
      "|0    |[trump, clinton, says, people, like, one, police, new, black, sanders]                       |\n",
      "|1    |[students, police, school, says, people, schools, one, like, black, trump]                   |\n",
      "|2    |[trump, clinton, president, campaign, sanders, trumps, election, republican, hillary, people]|\n",
      "|3    |[trump, clinton, sanders, president, campaign, trumps, says, party, people, republican]      |\n",
      "|4    |[apple, trump, percent, tax, billion, health, companies, insurance, company, president]      |\n",
      "|5    |[comey, fbi, trump, investigation, people, one, police, president, new, says]                |\n",
      "|6    |[police, people, trump, says, one, like, new, time, black, women]                            |\n",
      "|7    |[trump, police, people, one, says, new, like, president, state, also]                        |\n",
      "|8    |[trump, clinton, says, people, president, one, new, state, campaign, like]                   |\n",
      "|9    |[says, people, trump, one, like, new, women, students, years, school]                        |\n",
      "|10   |[trump, cruz, rubio, clinton, republican, voters, campaign, gop, party, trumps]              |\n",
      "|11   |[trump, president, people, one, clinton, new, russia, state, trumps, russian]                |\n",
      "|12   |[says, trump, people, one, like, new, percent, north, years, time]                           |\n",
      "|13   |[korea, north, nuclear, trump, police, people, one, china, military, says]                   |\n",
      "|14   |[trump, house, president, isis, republicans, senate, obamacare, trumps, clinton, republican] |\n",
      "|15   |[trump, people, clinton, says, health, one, like, new, percent, care]                        |\n",
      "|16   |[students, says, school, people, like, one, police, new, time, schools]                      |\n",
      "|17   |[says, people, trump, one, like, percent, new, health, years, time]                          |\n",
      "|18   |[trump, people, one, says, like, new, years, also, percent, time]                            |\n",
      "|19   |[trump, isis, syrian, syria, state, president, russia, clinton, states, russian]             |\n",
      "|20   |[trump, people, one, police, president, like, new, says, also, state]                        |\n",
      "|21   |[trump, people, says, one, like, new, president, clinton, trumps, percent]                   |\n",
      "|22   |[percent, trump, north, china, korea, oil, billion, new, president, people]                  |\n",
      "|23   |[percent, trump, people, says, new, one, police, like, health, company]                      |\n",
      "|24   |[trump, people, percent, new, one, like, says, also, time, company]                          |\n",
      "+-----+---------------------------------------------------------------------------------------------+\n",
      "\n"
     ]
    }
   ],
   "source": [
    "# Generate 25 Data-Driven Topics:\n",
    "lda = LDA(k=25, seed=123, optimizer=\"em\", featuresCol=\"features\")\n",
    "\n",
    "ldamodel = lda.fit(rescaledData)\n",
    "\n",
    "#model.isDistributed()\n",
    "#model.vocabSize()\n",
    "\n",
    "ldatopics = ldamodel.describeTopics()\n",
    "#ldatopics.show(25)\n",
    "\n",
    "def map_termID_to_Word(termIndices):\n",
    "    words = []\n",
    "    for termID in termIndices:\n",
    "        words.append(vocab_broadcast.value[termID])\n",
    "    \n",
    "    return words\n",
    "\n",
    "udf_map_termID_to_Word = udf(map_termID_to_Word , ArrayType(StringType()))\n",
    "ldatopics_mapped = ldatopics.withColumn(\"topic_desc\", udf_map_termID_to_Word(ldatopics.termIndices))\n",
    "ldatopics_mapped.select(ldatopics_mapped.topic, ldatopics_mapped.topic_desc).show(50,False)"
   ]
  },
  {
   "cell_type": "code",
   "execution_count": 13,
   "metadata": {},
   "outputs": [
    {
     "name": "stdout",
     "output_type": "stream",
     "text": [
      "+-------+--------------------+--------------------+--------------------+--------------------+--------------------+\n",
      "|id_news|               title|             content|               words|            features|   topicDistribution|\n",
      "+-------+--------------------+--------------------+--------------------+--------------------+--------------------+\n",
      "|  17283|House Republicans...|WASHINGTON  —   C...|[washington, cong...|(1000,[0,1,2,3,7,...|[0.01011699075267...|\n",
      "|  17284|Rift Between Offi...|After the bullet ...|[bullet, shells, ...|(1000,[1,2,3,4,5,...|[0.01063633701044...|\n",
      "|  17285|Tyrus Wong, ‘Bamb...|When Walt Disney’...|[walt, disneys, b...|(1000,[1,2,3,4,5,...|[0.02544716936186...|\n",
      "|  17286|Among Deaths in 2...|Death may be the ...|[death, may, grea...|(1000,[1,2,3,7,9,...|[0.06302582523011...|\n",
      "|  17287|Kim Jong-un Says ...|SEOUL, South Kore...|[seoul, south, ko...|(1000,[0,3,4,6,7,...|[0.01001957352459...|\n",
      "|  17288|Sick With a Cold,...|LONDON  —   Queen...|[london, queen, e...|(1000,[3,4,7,9,10...|[0.03970647934031...|\n",
      "|  17289|Taiwan’s Presiden...|BEIJING  —   Pres...|[beijing, preside...|(1000,[0,1,2,4,6,...|[0.01900641874267...|\n",
      "|  17290|After ‘The Bigges...|Danny Cahill stoo...|[danny, cahill, s...|(1000,[1,2,3,4,5,...|[0.02968976273780...|\n",
      "|  17291|First, a Mixtape....|Just how   is Hil...|[hillary, kerr, f...|(1000,[1,2,3,4,5,...|[0.12879518173664...|\n",
      "|  17292|Calling on Angels...|Angels are everyw...|[angels, everywhe...|(1000,[1,2,3,5,7,...|[0.04455016631830...|\n",
      "|  17293|Weak Federal Powe...|With Donald J. Tr...|[donald, trump, t...|(1000,[0,1,3,5,6,...|[0.01473073183453...|\n",
      "|  17294|Can Carbon Captur...|THOMPSONS, Tex.  ...|[thompsons, tex, ...|(1000,[0,1,3,4,5,...|[0.01191244687162...|\n",
      "|  17295|Mar-a-Lago, the F...|WEST PALM BEACH, ...|[west, palm, beac...|(1000,[0,1,2,3,4,...|[0.04615051016006...|\n",
      "|  17296|How to form healt...|This article is p...|[article, part, s...|(1000,[2,3,4,5,7,...|[0.05217423190186...|\n",
      "|  17297|Turning Your Vaca...|It’s the season f...|[season, family, ...|(1000,[1,2,3,4,5,...|[0.03836685376055...|\n",
      "|  17298|As Second Avenue ...|Finally. The Seco...|[second, avenue, ...|(1000,[1,2,3,5,7,...|[0.04712800474393...|\n",
      "|  17300|Dylann Roof Himse...|  pages into the ...|[pages, journal, ...|(1000,[1,2,4,5,7,...|[0.02976152336750...|\n",
      "|  17301|Modi’s Cash Ban B...|MUMBAI, India  — ...|[mumbai, india, b...|(1000,[0,1,2,3,4,...|[0.02217557115515...|\n",
      "|  17302|Suicide Bombing i...|BAGHDAD  —   A su...|[baghdad, suicide...|(1000,[2,4,6,12,1...|[0.01916592332721...|\n",
      "|  17303|Fecal Pollution T...|SYDNEY, Australia...|[sydney, australi...|(1000,[2,8,11,15,...|[0.04276312085237...|\n",
      "+-------+--------------------+--------------------+--------------------+--------------------+--------------------+\n",
      "only showing top 20 rows\n",
      "\n"
     ]
    }
   ],
   "source": [
    "ldaResults = ldamodel.transform(rescaledData)\n",
    "\n",
    "ldaResults.select('id_news','title','content','words','features','topicDistribution').show()"
   ]
  },
  {
   "cell_type": "markdown",
   "metadata": {},
   "source": [
    "Topic Detection"
   ]
  },
  {
   "cell_type": "code",
   "execution_count": 14,
   "metadata": {},
   "outputs": [
    {
     "name": "stdout",
     "output_type": "stream",
     "text": [
      "+-------+--------------------+--------------------+--------------------+--------------------+--------------------+------------+-----------+-----------+-----------+\n",
      "|id_news|               title|             content|               words|            features|   topicDistribution|     Topic_0|    Topic_4|   Topic_12|   Topic_20|\n",
      "+-------+--------------------+--------------------+--------------------+--------------------+--------------------+------------+-----------+-----------+-----------+\n",
      "|  17283|House Republicans...|WASHINGTON  —   C...|[washington, cong...|(1000,[0,1,2,3,7,...|[0.01011699075267...| 0.010116991| 0.06586289|0.011249832|0.011186875|\n",
      "|  17284|Rift Between Offi...|After the bullet ...|[bullet, shells, ...|(1000,[1,2,3,4,5,...|[0.01063633701044...| 0.010636337|0.004384541|0.010300666|0.008092725|\n",
      "|  17285|Tyrus Wong, ‘Bamb...|When Walt Disney’...|[walt, disneys, b...|(1000,[1,2,3,4,5,...|[0.02544716936186...|  0.02544717|0.012213241| 0.03126634| 0.02187525|\n",
      "|  17286|Among Deaths in 2...|Death may be the ...|[death, may, grea...|(1000,[1,2,3,7,9,...|[0.06302582523011...| 0.063025825|0.009284344|0.043228682|0.047412742|\n",
      "|  17287|Kim Jong-un Says ...|SEOUL, South Kore...|[seoul, south, ko...|(1000,[0,3,4,6,7,...|[0.01001957352459...| 0.010019573|0.011802754|0.017145425| 0.01445571|\n",
      "|  17288|Sick With a Cold,...|LONDON  —   Queen...|[london, queen, e...|(1000,[3,4,7,9,10...|[0.03970647934031...|  0.03970648|0.033474192| 0.04336005| 0.04518273|\n",
      "|  17289|Taiwan’s Presiden...|BEIJING  —   Pres...|[beijing, preside...|(1000,[0,1,2,4,6,...|[0.01900641874267...| 0.019006418|0.033755165|0.026756795|0.047392283|\n",
      "|  17290|After ‘The Bigges...|Danny Cahill stoo...|[danny, cahill, s...|(1000,[1,2,3,4,5,...|[0.02968976273780...| 0.029689763|0.008582467|0.081787884|0.013133307|\n",
      "|  17291|First, a Mixtape....|Just how   is Hil...|[hillary, kerr, f...|(1000,[1,2,3,4,5,...|[0.12879518173664...|  0.12879518|0.010430884|0.033531282|0.022091892|\n",
      "|  17292|Calling on Angels...|Angels are everyw...|[angels, everywhe...|(1000,[1,2,3,5,7,...|[0.04455016631830...| 0.044550166| 0.01897085|0.039491087|0.023728918|\n",
      "|  17293|Weak Federal Powe...|With Donald J. Tr...|[donald, trump, t...|(1000,[0,1,3,5,6,...|[0.01473073183453...| 0.014730732| 0.37500522|  0.0184038|0.018511558|\n",
      "|  17294|Can Carbon Captur...|THOMPSONS, Tex.  ...|[thompsons, tex, ...|(1000,[0,1,3,4,5,...|[0.01191244687162...|0.0119124465| 0.24194735|0.024450976| 0.01629615|\n",
      "|  17295|Mar-a-Lago, the F...|WEST PALM BEACH, ...|[west, palm, beac...|(1000,[0,1,2,3,4,...|[0.04615051016006...|  0.04615051|0.020701993|0.027999531|0.048679322|\n",
      "|  17296|How to form healt...|This article is p...|[article, part, s...|(1000,[2,3,4,5,7,...|[0.05217423190186...| 0.052174233|0.027558409| 0.05514468|0.033597246|\n",
      "|  17297|Turning Your Vaca...|It’s the season f...|[season, family, ...|(1000,[1,2,3,4,5,...|[0.03836685376055...| 0.038366854| 0.02634166|0.069919676|0.022487875|\n",
      "|  17298|As Second Avenue ...|Finally. The Seco...|[second, avenue, ...|(1000,[1,2,3,5,7,...|[0.04712800474393...| 0.047128003|0.020083789| 0.08773902|0.047047775|\n",
      "|  17300|Dylann Roof Himse...|  pages into the ...|[pages, journal, ...|(1000,[1,2,4,5,7,...|[0.02976152336750...| 0.029761523| 0.01858239| 0.03050747|0.023619298|\n",
      "|  17301|Modi’s Cash Ban B...|MUMBAI, India  — ...|[mumbai, india, b...|(1000,[0,1,2,3,4,...|[0.02217557115515...| 0.022175571| 0.20818768|0.030795796|0.025726873|\n",
      "|  17302|Suicide Bombing i...|BAGHDAD  —   A su...|[baghdad, suicide...|(1000,[2,4,6,12,1...|[0.01916592332721...| 0.019165924|0.020448152|0.023963105|0.053486247|\n",
      "|  17303|Fecal Pollution T...|SYDNEY, Australia...|[sydney, australi...|(1000,[2,8,11,15,...|[0.04276312085237...|  0.04276312|0.032601967|0.055338413| 0.03594482|\n",
      "+-------+--------------------+--------------------+--------------------+--------------------+--------------------+------------+-----------+-----------+-----------+\n",
      "only showing top 20 rows\n",
      "\n"
     ]
    }
   ],
   "source": [
    "def breakout_array(index_number, record):\n",
    "    vectorlist = record.tolist()\n",
    "    return vectorlist[index_number]\n",
    "\n",
    "udf_breakout_array = udf(breakout_array, FloatType())\n",
    "\n",
    "# Extract document weights for Topics 12 and 20\n",
    "enrichedData = ldaResults                                                                 \\\n",
    "        .withColumn(\"Topic_0\", udf_breakout_array(lit(0), ldaResults.topicDistribution))  \\\n",
    "        .withColumn(\"topic_4\", udf_breakout_array(lit(4), ldaResults.topicDistribution))  \\\n",
    "        .withColumn(\"Topic_12\", udf_breakout_array(lit(12), ldaResults.topicDistribution))  \\\n",
    "        .withColumn(\"Topic_20\", udf_breakout_array(lit(20), ldaResults.topicDistribution))\n",
    "\n",
    "enrichedData.select('id_news','title','content','words','features','topicDistribution','Topic_0','Topic_4','Topic_12','Topic_20').show()\n",
    "\n",
    "#enrichedData.agg(max(\"Topic_12\")).show()"
   ]
  },
  {
   "cell_type": "code",
   "execution_count": 16,
   "metadata": {},
   "outputs": [
    {
     "name": "stdout",
     "output_type": "stream",
     "text": [
      "+------------+\n",
      "|max(Topic_0)|\n",
      "+------------+\n",
      "|   0.8684466|\n",
      "+------------+\n",
      "\n",
      "+------------+\n",
      "|max(Topic_4)|\n",
      "+------------+\n",
      "|   0.8588226|\n",
      "+------------+\n",
      "\n",
      "+-------------+\n",
      "|max(Topic_12)|\n",
      "+-------------+\n",
      "|   0.66719466|\n",
      "+-------------+\n",
      "\n"
     ]
    },
    {
     "ename": "Py4JJavaError",
     "evalue": "An error occurred while calling o415.showString.\n: org.apache.spark.SparkException: Job aborted due to stage failure: Task 3 in stage 891.0 failed 1 times, most recent failure: Lost task 3.0 in stage 891.0 (TID 504, localhost, executor driver): java.io.FileNotFoundException: C:\\Users\\julia\\AppData\\Local\\Temp\\blockmgr-8d810fd1-576e-4b5b-a7b3-73f401f5eabc\\3d\\temp_shuffle_fc741ba2-56a2-4d96-8768-daa72e57ebd5 (El sistema no puede encontrar la ruta especificada)\r\n\tat java.io.FileOutputStream.open0(Native Method)\r\n\tat java.io.FileOutputStream.open(FileOutputStream.java:270)\r\n\tat java.io.FileOutputStream.<init>(FileOutputStream.java:213)\r\n\tat org.apache.spark.storage.DiskBlockObjectWriter.initialize(DiskBlockObjectWriter.scala:103)\r\n\tat org.apache.spark.storage.DiskBlockObjectWriter.open(DiskBlockObjectWriter.scala:116)\r\n\tat org.apache.spark.storage.DiskBlockObjectWriter.write(DiskBlockObjectWriter.scala:237)\r\n\tat org.apache.spark.shuffle.sort.BypassMergeSortShuffleWriter.write(BypassMergeSortShuffleWriter.java:151)\r\n\tat org.apache.spark.scheduler.ShuffleMapTask.runTask(ShuffleMapTask.scala:99)\r\n\tat org.apache.spark.scheduler.ShuffleMapTask.runTask(ShuffleMapTask.scala:55)\r\n\tat org.apache.spark.scheduler.Task.run(Task.scala:121)\r\n\tat org.apache.spark.executor.Executor$TaskRunner$$anonfun$10.apply(Executor.scala:408)\r\n\tat org.apache.spark.util.Utils$.tryWithSafeFinally(Utils.scala:1360)\r\n\tat org.apache.spark.executor.Executor$TaskRunner.run(Executor.scala:414)\r\n\tat java.util.concurrent.ThreadPoolExecutor.runWorker(ThreadPoolExecutor.java:1149)\r\n\tat java.util.concurrent.ThreadPoolExecutor$Worker.run(ThreadPoolExecutor.java:624)\r\n\tat java.lang.Thread.run(Thread.java:748)\r\n\nDriver stacktrace:\r\n\tat org.apache.spark.scheduler.DAGScheduler.org$apache$spark$scheduler$DAGScheduler$$failJobAndIndependentStages(DAGScheduler.scala:1889)\r\n\tat org.apache.spark.scheduler.DAGScheduler$$anonfun$abortStage$1.apply(DAGScheduler.scala:1877)\r\n\tat org.apache.spark.scheduler.DAGScheduler$$anonfun$abortStage$1.apply(DAGScheduler.scala:1876)\r\n\tat scala.collection.mutable.ResizableArray$class.foreach(ResizableArray.scala:59)\r\n\tat scala.collection.mutable.ArrayBuffer.foreach(ArrayBuffer.scala:48)\r\n\tat org.apache.spark.scheduler.DAGScheduler.abortStage(DAGScheduler.scala:1876)\r\n\tat org.apache.spark.scheduler.DAGScheduler$$anonfun$handleTaskSetFailed$1.apply(DAGScheduler.scala:926)\r\n\tat org.apache.spark.scheduler.DAGScheduler$$anonfun$handleTaskSetFailed$1.apply(DAGScheduler.scala:926)\r\n\tat scala.Option.foreach(Option.scala:257)\r\n\tat org.apache.spark.scheduler.DAGScheduler.handleTaskSetFailed(DAGScheduler.scala:926)\r\n\tat org.apache.spark.scheduler.DAGSchedulerEventProcessLoop.doOnReceive(DAGScheduler.scala:2110)\r\n\tat org.apache.spark.scheduler.DAGSchedulerEventProcessLoop.onReceive(DAGScheduler.scala:2059)\r\n\tat org.apache.spark.scheduler.DAGSchedulerEventProcessLoop.onReceive(DAGScheduler.scala:2048)\r\n\tat org.apache.spark.util.EventLoop$$anon$1.run(EventLoop.scala:49)\r\n\tat org.apache.spark.scheduler.DAGScheduler.runJob(DAGScheduler.scala:737)\r\n\tat org.apache.spark.SparkContext.runJob(SparkContext.scala:2061)\r\n\tat org.apache.spark.SparkContext.runJob(SparkContext.scala:2082)\r\n\tat org.apache.spark.SparkContext.runJob(SparkContext.scala:2101)\r\n\tat org.apache.spark.sql.execution.SparkPlan.executeTake(SparkPlan.scala:365)\r\n\tat org.apache.spark.sql.execution.CollectLimitExec.executeCollect(limit.scala:38)\r\n\tat org.apache.spark.sql.Dataset.org$apache$spark$sql$Dataset$$collectFromPlan(Dataset.scala:3383)\r\n\tat org.apache.spark.sql.Dataset$$anonfun$head$1.apply(Dataset.scala:2544)\r\n\tat org.apache.spark.sql.Dataset$$anonfun$head$1.apply(Dataset.scala:2544)\r\n\tat org.apache.spark.sql.Dataset$$anonfun$53.apply(Dataset.scala:3364)\r\n\tat org.apache.spark.sql.execution.SQLExecution$$anonfun$withNewExecutionId$1.apply(SQLExecution.scala:78)\r\n\tat org.apache.spark.sql.execution.SQLExecution$.withSQLConfPropagated(SQLExecution.scala:125)\r\n\tat org.apache.spark.sql.execution.SQLExecution$.withNewExecutionId(SQLExecution.scala:73)\r\n\tat org.apache.spark.sql.Dataset.withAction(Dataset.scala:3363)\r\n\tat org.apache.spark.sql.Dataset.head(Dataset.scala:2544)\r\n\tat org.apache.spark.sql.Dataset.take(Dataset.scala:2758)\r\n\tat org.apache.spark.sql.Dataset.getRows(Dataset.scala:254)\r\n\tat org.apache.spark.sql.Dataset.showString(Dataset.scala:291)\r\n\tat sun.reflect.NativeMethodAccessorImpl.invoke0(Native Method)\r\n\tat sun.reflect.NativeMethodAccessorImpl.invoke(NativeMethodAccessorImpl.java:62)\r\n\tat sun.reflect.DelegatingMethodAccessorImpl.invoke(DelegatingMethodAccessorImpl.java:43)\r\n\tat java.lang.reflect.Method.invoke(Method.java:498)\r\n\tat py4j.reflection.MethodInvoker.invoke(MethodInvoker.java:244)\r\n\tat py4j.reflection.ReflectionEngine.invoke(ReflectionEngine.java:357)\r\n\tat py4j.Gateway.invoke(Gateway.java:282)\r\n\tat py4j.commands.AbstractCommand.invokeMethod(AbstractCommand.java:132)\r\n\tat py4j.commands.CallCommand.execute(CallCommand.java:79)\r\n\tat py4j.GatewayConnection.run(GatewayConnection.java:238)\r\n\tat java.lang.Thread.run(Thread.java:748)\r\nCaused by: java.io.FileNotFoundException: C:\\Users\\julia\\AppData\\Local\\Temp\\blockmgr-8d810fd1-576e-4b5b-a7b3-73f401f5eabc\\3d\\temp_shuffle_fc741ba2-56a2-4d96-8768-daa72e57ebd5 (El sistema no puede encontrar la ruta especificada)\r\n\tat java.io.FileOutputStream.open0(Native Method)\r\n\tat java.io.FileOutputStream.open(FileOutputStream.java:270)\r\n\tat java.io.FileOutputStream.<init>(FileOutputStream.java:213)\r\n\tat org.apache.spark.storage.DiskBlockObjectWriter.initialize(DiskBlockObjectWriter.scala:103)\r\n\tat org.apache.spark.storage.DiskBlockObjectWriter.open(DiskBlockObjectWriter.scala:116)\r\n\tat org.apache.spark.storage.DiskBlockObjectWriter.write(DiskBlockObjectWriter.scala:237)\r\n\tat org.apache.spark.shuffle.sort.BypassMergeSortShuffleWriter.write(BypassMergeSortShuffleWriter.java:151)\r\n\tat org.apache.spark.scheduler.ShuffleMapTask.runTask(ShuffleMapTask.scala:99)\r\n\tat org.apache.spark.scheduler.ShuffleMapTask.runTask(ShuffleMapTask.scala:55)\r\n\tat org.apache.spark.scheduler.Task.run(Task.scala:121)\r\n\tat org.apache.spark.executor.Executor$TaskRunner$$anonfun$10.apply(Executor.scala:408)\r\n\tat org.apache.spark.util.Utils$.tryWithSafeFinally(Utils.scala:1360)\r\n\tat org.apache.spark.executor.Executor$TaskRunner.run(Executor.scala:414)\r\n\tat java.util.concurrent.ThreadPoolExecutor.runWorker(ThreadPoolExecutor.java:1149)\r\n\tat java.util.concurrent.ThreadPoolExecutor$Worker.run(ThreadPoolExecutor.java:624)\r\n\t... 1 more\r\n",
     "output_type": "error",
     "traceback": [
      "\u001b[1;31m---------------------------------------------------------------------------\u001b[0m",
      "\u001b[1;31mPy4JJavaError\u001b[0m                             Traceback (most recent call last)",
      "\u001b[1;32m<ipython-input-16-1d96f74194a3>\u001b[0m in \u001b[0;36m<module>\u001b[1;34m\u001b[0m\n\u001b[0;32m      2\u001b[0m \u001b[0menrichedData\u001b[0m\u001b[1;33m.\u001b[0m\u001b[0magg\u001b[0m\u001b[1;33m(\u001b[0m\u001b[0mmax\u001b[0m\u001b[1;33m(\u001b[0m\u001b[1;34m\"Topic_4\"\u001b[0m\u001b[1;33m)\u001b[0m\u001b[1;33m)\u001b[0m\u001b[1;33m.\u001b[0m\u001b[0mshow\u001b[0m\u001b[1;33m(\u001b[0m\u001b[1;33m)\u001b[0m\u001b[1;33m\u001b[0m\u001b[1;33m\u001b[0m\u001b[0m\n\u001b[0;32m      3\u001b[0m \u001b[0menrichedData\u001b[0m\u001b[1;33m.\u001b[0m\u001b[0magg\u001b[0m\u001b[1;33m(\u001b[0m\u001b[0mmax\u001b[0m\u001b[1;33m(\u001b[0m\u001b[1;34m\"Topic_12\"\u001b[0m\u001b[1;33m)\u001b[0m\u001b[1;33m)\u001b[0m\u001b[1;33m.\u001b[0m\u001b[0mshow\u001b[0m\u001b[1;33m(\u001b[0m\u001b[1;33m)\u001b[0m\u001b[1;33m\u001b[0m\u001b[1;33m\u001b[0m\u001b[0m\n\u001b[1;32m----> 4\u001b[1;33m \u001b[0menrichedData\u001b[0m\u001b[1;33m.\u001b[0m\u001b[0magg\u001b[0m\u001b[1;33m(\u001b[0m\u001b[0mmax\u001b[0m\u001b[1;33m(\u001b[0m\u001b[1;34m\"Topic_20\"\u001b[0m\u001b[1;33m)\u001b[0m\u001b[1;33m)\u001b[0m\u001b[1;33m.\u001b[0m\u001b[0mshow\u001b[0m\u001b[1;33m(\u001b[0m\u001b[1;33m)\u001b[0m\u001b[1;33m\u001b[0m\u001b[1;33m\u001b[0m\u001b[0m\n\u001b[0m\u001b[0;32m      5\u001b[0m \u001b[1;33m\u001b[0m\u001b[0m\n",
      "\u001b[1;32mC:\\ProgramData\\Anaconda3\\lib\\site-packages\\pyspark\\sql\\dataframe.py\u001b[0m in \u001b[0;36mshow\u001b[1;34m(self, n, truncate, vertical)\u001b[0m\n\u001b[0;32m    376\u001b[0m         \"\"\"\n\u001b[0;32m    377\u001b[0m         \u001b[1;32mif\u001b[0m \u001b[0misinstance\u001b[0m\u001b[1;33m(\u001b[0m\u001b[0mtruncate\u001b[0m\u001b[1;33m,\u001b[0m \u001b[0mbool\u001b[0m\u001b[1;33m)\u001b[0m \u001b[1;32mand\u001b[0m \u001b[0mtruncate\u001b[0m\u001b[1;33m:\u001b[0m\u001b[1;33m\u001b[0m\u001b[1;33m\u001b[0m\u001b[0m\n\u001b[1;32m--> 378\u001b[1;33m             \u001b[0mprint\u001b[0m\u001b[1;33m(\u001b[0m\u001b[0mself\u001b[0m\u001b[1;33m.\u001b[0m\u001b[0m_jdf\u001b[0m\u001b[1;33m.\u001b[0m\u001b[0mshowString\u001b[0m\u001b[1;33m(\u001b[0m\u001b[0mn\u001b[0m\u001b[1;33m,\u001b[0m \u001b[1;36m20\u001b[0m\u001b[1;33m,\u001b[0m \u001b[0mvertical\u001b[0m\u001b[1;33m)\u001b[0m\u001b[1;33m)\u001b[0m\u001b[1;33m\u001b[0m\u001b[1;33m\u001b[0m\u001b[0m\n\u001b[0m\u001b[0;32m    379\u001b[0m         \u001b[1;32melse\u001b[0m\u001b[1;33m:\u001b[0m\u001b[1;33m\u001b[0m\u001b[1;33m\u001b[0m\u001b[0m\n\u001b[0;32m    380\u001b[0m             \u001b[0mprint\u001b[0m\u001b[1;33m(\u001b[0m\u001b[0mself\u001b[0m\u001b[1;33m.\u001b[0m\u001b[0m_jdf\u001b[0m\u001b[1;33m.\u001b[0m\u001b[0mshowString\u001b[0m\u001b[1;33m(\u001b[0m\u001b[0mn\u001b[0m\u001b[1;33m,\u001b[0m \u001b[0mint\u001b[0m\u001b[1;33m(\u001b[0m\u001b[0mtruncate\u001b[0m\u001b[1;33m)\u001b[0m\u001b[1;33m,\u001b[0m \u001b[0mvertical\u001b[0m\u001b[1;33m)\u001b[0m\u001b[1;33m)\u001b[0m\u001b[1;33m\u001b[0m\u001b[1;33m\u001b[0m\u001b[0m\n",
      "\u001b[1;32mC:\\ProgramData\\Anaconda3\\lib\\site-packages\\py4j\\java_gateway.py\u001b[0m in \u001b[0;36m__call__\u001b[1;34m(self, *args)\u001b[0m\n\u001b[0;32m   1255\u001b[0m         \u001b[0manswer\u001b[0m \u001b[1;33m=\u001b[0m \u001b[0mself\u001b[0m\u001b[1;33m.\u001b[0m\u001b[0mgateway_client\u001b[0m\u001b[1;33m.\u001b[0m\u001b[0msend_command\u001b[0m\u001b[1;33m(\u001b[0m\u001b[0mcommand\u001b[0m\u001b[1;33m)\u001b[0m\u001b[1;33m\u001b[0m\u001b[1;33m\u001b[0m\u001b[0m\n\u001b[0;32m   1256\u001b[0m         return_value = get_return_value(\n\u001b[1;32m-> 1257\u001b[1;33m             answer, self.gateway_client, self.target_id, self.name)\n\u001b[0m\u001b[0;32m   1258\u001b[0m \u001b[1;33m\u001b[0m\u001b[0m\n\u001b[0;32m   1259\u001b[0m         \u001b[1;32mfor\u001b[0m \u001b[0mtemp_arg\u001b[0m \u001b[1;32min\u001b[0m \u001b[0mtemp_args\u001b[0m\u001b[1;33m:\u001b[0m\u001b[1;33m\u001b[0m\u001b[1;33m\u001b[0m\u001b[0m\n",
      "\u001b[1;32mC:\\ProgramData\\Anaconda3\\lib\\site-packages\\pyspark\\sql\\utils.py\u001b[0m in \u001b[0;36mdeco\u001b[1;34m(*a, **kw)\u001b[0m\n\u001b[0;32m     61\u001b[0m     \u001b[1;32mdef\u001b[0m \u001b[0mdeco\u001b[0m\u001b[1;33m(\u001b[0m\u001b[1;33m*\u001b[0m\u001b[0ma\u001b[0m\u001b[1;33m,\u001b[0m \u001b[1;33m**\u001b[0m\u001b[0mkw\u001b[0m\u001b[1;33m)\u001b[0m\u001b[1;33m:\u001b[0m\u001b[1;33m\u001b[0m\u001b[1;33m\u001b[0m\u001b[0m\n\u001b[0;32m     62\u001b[0m         \u001b[1;32mtry\u001b[0m\u001b[1;33m:\u001b[0m\u001b[1;33m\u001b[0m\u001b[1;33m\u001b[0m\u001b[0m\n\u001b[1;32m---> 63\u001b[1;33m             \u001b[1;32mreturn\u001b[0m \u001b[0mf\u001b[0m\u001b[1;33m(\u001b[0m\u001b[1;33m*\u001b[0m\u001b[0ma\u001b[0m\u001b[1;33m,\u001b[0m \u001b[1;33m**\u001b[0m\u001b[0mkw\u001b[0m\u001b[1;33m)\u001b[0m\u001b[1;33m\u001b[0m\u001b[1;33m\u001b[0m\u001b[0m\n\u001b[0m\u001b[0;32m     64\u001b[0m         \u001b[1;32mexcept\u001b[0m \u001b[0mpy4j\u001b[0m\u001b[1;33m.\u001b[0m\u001b[0mprotocol\u001b[0m\u001b[1;33m.\u001b[0m\u001b[0mPy4JJavaError\u001b[0m \u001b[1;32mas\u001b[0m \u001b[0me\u001b[0m\u001b[1;33m:\u001b[0m\u001b[1;33m\u001b[0m\u001b[1;33m\u001b[0m\u001b[0m\n\u001b[0;32m     65\u001b[0m             \u001b[0ms\u001b[0m \u001b[1;33m=\u001b[0m \u001b[0me\u001b[0m\u001b[1;33m.\u001b[0m\u001b[0mjava_exception\u001b[0m\u001b[1;33m.\u001b[0m\u001b[0mtoString\u001b[0m\u001b[1;33m(\u001b[0m\u001b[1;33m)\u001b[0m\u001b[1;33m\u001b[0m\u001b[1;33m\u001b[0m\u001b[0m\n",
      "\u001b[1;32mC:\\ProgramData\\Anaconda3\\lib\\site-packages\\py4j\\protocol.py\u001b[0m in \u001b[0;36mget_return_value\u001b[1;34m(answer, gateway_client, target_id, name)\u001b[0m\n\u001b[0;32m    326\u001b[0m                 raise Py4JJavaError(\n\u001b[0;32m    327\u001b[0m                     \u001b[1;34m\"An error occurred while calling {0}{1}{2}.\\n\"\u001b[0m\u001b[1;33m.\u001b[0m\u001b[1;33m\u001b[0m\u001b[1;33m\u001b[0m\u001b[0m\n\u001b[1;32m--> 328\u001b[1;33m                     format(target_id, \".\", name), value)\n\u001b[0m\u001b[0;32m    329\u001b[0m             \u001b[1;32melse\u001b[0m\u001b[1;33m:\u001b[0m\u001b[1;33m\u001b[0m\u001b[1;33m\u001b[0m\u001b[0m\n\u001b[0;32m    330\u001b[0m                 raise Py4JError(\n",
      "\u001b[1;31mPy4JJavaError\u001b[0m: An error occurred while calling o415.showString.\n: org.apache.spark.SparkException: Job aborted due to stage failure: Task 3 in stage 891.0 failed 1 times, most recent failure: Lost task 3.0 in stage 891.0 (TID 504, localhost, executor driver): java.io.FileNotFoundException: C:\\Users\\julia\\AppData\\Local\\Temp\\blockmgr-8d810fd1-576e-4b5b-a7b3-73f401f5eabc\\3d\\temp_shuffle_fc741ba2-56a2-4d96-8768-daa72e57ebd5 (El sistema no puede encontrar la ruta especificada)\r\n\tat java.io.FileOutputStream.open0(Native Method)\r\n\tat java.io.FileOutputStream.open(FileOutputStream.java:270)\r\n\tat java.io.FileOutputStream.<init>(FileOutputStream.java:213)\r\n\tat org.apache.spark.storage.DiskBlockObjectWriter.initialize(DiskBlockObjectWriter.scala:103)\r\n\tat org.apache.spark.storage.DiskBlockObjectWriter.open(DiskBlockObjectWriter.scala:116)\r\n\tat org.apache.spark.storage.DiskBlockObjectWriter.write(DiskBlockObjectWriter.scala:237)\r\n\tat org.apache.spark.shuffle.sort.BypassMergeSortShuffleWriter.write(BypassMergeSortShuffleWriter.java:151)\r\n\tat org.apache.spark.scheduler.ShuffleMapTask.runTask(ShuffleMapTask.scala:99)\r\n\tat org.apache.spark.scheduler.ShuffleMapTask.runTask(ShuffleMapTask.scala:55)\r\n\tat org.apache.spark.scheduler.Task.run(Task.scala:121)\r\n\tat org.apache.spark.executor.Executor$TaskRunner$$anonfun$10.apply(Executor.scala:408)\r\n\tat org.apache.spark.util.Utils$.tryWithSafeFinally(Utils.scala:1360)\r\n\tat org.apache.spark.executor.Executor$TaskRunner.run(Executor.scala:414)\r\n\tat java.util.concurrent.ThreadPoolExecutor.runWorker(ThreadPoolExecutor.java:1149)\r\n\tat java.util.concurrent.ThreadPoolExecutor$Worker.run(ThreadPoolExecutor.java:624)\r\n\tat java.lang.Thread.run(Thread.java:748)\r\n\nDriver stacktrace:\r\n\tat org.apache.spark.scheduler.DAGScheduler.org$apache$spark$scheduler$DAGScheduler$$failJobAndIndependentStages(DAGScheduler.scala:1889)\r\n\tat org.apache.spark.scheduler.DAGScheduler$$anonfun$abortStage$1.apply(DAGScheduler.scala:1877)\r\n\tat org.apache.spark.scheduler.DAGScheduler$$anonfun$abortStage$1.apply(DAGScheduler.scala:1876)\r\n\tat scala.collection.mutable.ResizableArray$class.foreach(ResizableArray.scala:59)\r\n\tat scala.collection.mutable.ArrayBuffer.foreach(ArrayBuffer.scala:48)\r\n\tat org.apache.spark.scheduler.DAGScheduler.abortStage(DAGScheduler.scala:1876)\r\n\tat org.apache.spark.scheduler.DAGScheduler$$anonfun$handleTaskSetFailed$1.apply(DAGScheduler.scala:926)\r\n\tat org.apache.spark.scheduler.DAGScheduler$$anonfun$handleTaskSetFailed$1.apply(DAGScheduler.scala:926)\r\n\tat scala.Option.foreach(Option.scala:257)\r\n\tat org.apache.spark.scheduler.DAGScheduler.handleTaskSetFailed(DAGScheduler.scala:926)\r\n\tat org.apache.spark.scheduler.DAGSchedulerEventProcessLoop.doOnReceive(DAGScheduler.scala:2110)\r\n\tat org.apache.spark.scheduler.DAGSchedulerEventProcessLoop.onReceive(DAGScheduler.scala:2059)\r\n\tat org.apache.spark.scheduler.DAGSchedulerEventProcessLoop.onReceive(DAGScheduler.scala:2048)\r\n\tat org.apache.spark.util.EventLoop$$anon$1.run(EventLoop.scala:49)\r\n\tat org.apache.spark.scheduler.DAGScheduler.runJob(DAGScheduler.scala:737)\r\n\tat org.apache.spark.SparkContext.runJob(SparkContext.scala:2061)\r\n\tat org.apache.spark.SparkContext.runJob(SparkContext.scala:2082)\r\n\tat org.apache.spark.SparkContext.runJob(SparkContext.scala:2101)\r\n\tat org.apache.spark.sql.execution.SparkPlan.executeTake(SparkPlan.scala:365)\r\n\tat org.apache.spark.sql.execution.CollectLimitExec.executeCollect(limit.scala:38)\r\n\tat org.apache.spark.sql.Dataset.org$apache$spark$sql$Dataset$$collectFromPlan(Dataset.scala:3383)\r\n\tat org.apache.spark.sql.Dataset$$anonfun$head$1.apply(Dataset.scala:2544)\r\n\tat org.apache.spark.sql.Dataset$$anonfun$head$1.apply(Dataset.scala:2544)\r\n\tat org.apache.spark.sql.Dataset$$anonfun$53.apply(Dataset.scala:3364)\r\n\tat org.apache.spark.sql.execution.SQLExecution$$anonfun$withNewExecutionId$1.apply(SQLExecution.scala:78)\r\n\tat org.apache.spark.sql.execution.SQLExecution$.withSQLConfPropagated(SQLExecution.scala:125)\r\n\tat org.apache.spark.sql.execution.SQLExecution$.withNewExecutionId(SQLExecution.scala:73)\r\n\tat org.apache.spark.sql.Dataset.withAction(Dataset.scala:3363)\r\n\tat org.apache.spark.sql.Dataset.head(Dataset.scala:2544)\r\n\tat org.apache.spark.sql.Dataset.take(Dataset.scala:2758)\r\n\tat org.apache.spark.sql.Dataset.getRows(Dataset.scala:254)\r\n\tat org.apache.spark.sql.Dataset.showString(Dataset.scala:291)\r\n\tat sun.reflect.NativeMethodAccessorImpl.invoke0(Native Method)\r\n\tat sun.reflect.NativeMethodAccessorImpl.invoke(NativeMethodAccessorImpl.java:62)\r\n\tat sun.reflect.DelegatingMethodAccessorImpl.invoke(DelegatingMethodAccessorImpl.java:43)\r\n\tat java.lang.reflect.Method.invoke(Method.java:498)\r\n\tat py4j.reflection.MethodInvoker.invoke(MethodInvoker.java:244)\r\n\tat py4j.reflection.ReflectionEngine.invoke(ReflectionEngine.java:357)\r\n\tat py4j.Gateway.invoke(Gateway.java:282)\r\n\tat py4j.commands.AbstractCommand.invokeMethod(AbstractCommand.java:132)\r\n\tat py4j.commands.CallCommand.execute(CallCommand.java:79)\r\n\tat py4j.GatewayConnection.run(GatewayConnection.java:238)\r\n\tat java.lang.Thread.run(Thread.java:748)\r\nCaused by: java.io.FileNotFoundException: C:\\Users\\julia\\AppData\\Local\\Temp\\blockmgr-8d810fd1-576e-4b5b-a7b3-73f401f5eabc\\3d\\temp_shuffle_fc741ba2-56a2-4d96-8768-daa72e57ebd5 (El sistema no puede encontrar la ruta especificada)\r\n\tat java.io.FileOutputStream.open0(Native Method)\r\n\tat java.io.FileOutputStream.open(FileOutputStream.java:270)\r\n\tat java.io.FileOutputStream.<init>(FileOutputStream.java:213)\r\n\tat org.apache.spark.storage.DiskBlockObjectWriter.initialize(DiskBlockObjectWriter.scala:103)\r\n\tat org.apache.spark.storage.DiskBlockObjectWriter.open(DiskBlockObjectWriter.scala:116)\r\n\tat org.apache.spark.storage.DiskBlockObjectWriter.write(DiskBlockObjectWriter.scala:237)\r\n\tat org.apache.spark.shuffle.sort.BypassMergeSortShuffleWriter.write(BypassMergeSortShuffleWriter.java:151)\r\n\tat org.apache.spark.scheduler.ShuffleMapTask.runTask(ShuffleMapTask.scala:99)\r\n\tat org.apache.spark.scheduler.ShuffleMapTask.runTask(ShuffleMapTask.scala:55)\r\n\tat org.apache.spark.scheduler.Task.run(Task.scala:121)\r\n\tat org.apache.spark.executor.Executor$TaskRunner$$anonfun$10.apply(Executor.scala:408)\r\n\tat org.apache.spark.util.Utils$.tryWithSafeFinally(Utils.scala:1360)\r\n\tat org.apache.spark.executor.Executor$TaskRunner.run(Executor.scala:414)\r\n\tat java.util.concurrent.ThreadPoolExecutor.runWorker(ThreadPoolExecutor.java:1149)\r\n\tat java.util.concurrent.ThreadPoolExecutor$Worker.run(ThreadPoolExecutor.java:624)\r\n\t... 1 more\r\n"
     ]
    }
   ],
   "source": [
    "enrichedData.agg(max(\"Topic_0\")).show()\n",
    "enrichedData.agg(max(\"Topic_4\")).show()\n",
    "enrichedData.agg(max(\"Topic_12\")).show()\n",
    "\n",
    "\n"
   ]
  },
  {
   "cell_type": "markdown",
   "metadata": {},
   "source": [
    "# Análisis de Sentimientos"
   ]
  },
  {
   "cell_type": "code",
   "execution_count": 51,
   "metadata": {},
   "outputs": [],
   "source": [
    "import pandas as pd\n",
    "import numpy as np\n",
    "from zipfile import ZipFile\n",
    "import re\n",
    "from nltk.stem.snowball import SnowballStemmer\n",
    "from sklearn.pipeline import Pipeline\n",
    "from sklearn.linear_model import LogisticRegression\n",
    "from sklearn.svm import LinearSVC\n",
    "from sklearn.linear_model import PassiveAggressiveClassifier\n",
    "from sklearn.naive_bayes import MultinomialNB\n",
    "from sklearn.feature_extraction.text import TfidfVectorizer, CountVectorizer, TfidfTransformer\n",
    "from sklearn.neighbors import KNeighborsClassifier\n",
    "from sklearn.model_selection import GridSearchCV\n",
    "from sklearn.metrics import accuracy_score, confusion_matrix, roc_auc_score\n",
    "import nltk\n",
    "from nltk.stem import WordNetLemmatizer\n",
    "from nltk import word_tokenize\n",
    "from nltk.corpus import stopwords\n",
    "import string\n",
    "from sklearn.linear_model import SGDClassifier\n",
    "import logging\n",
    "from textblob import TextBlob\n",
    "from sklearn.preprocessing import LabelEncoder\n",
    "from sklearn.model_selection import train_test_split"
   ]
  },
  {
   "cell_type": "code",
   "execution_count": 85,
   "metadata": {},
   "outputs": [],
   "source": [
    "df = pd.read_csv(\"./Trabajo_Meta/news.csv\",sep=',')"
   ]
  },
  {
   "cell_type": "code",
   "execution_count": 86,
   "metadata": {},
   "outputs": [],
   "source": [
    "df2 = pd.DataFrame(df['title']+' '+df['content'], columns=['text'])\n",
    "df3 = pd.concat([df2,df],axis=1)"
   ]
  },
  {
   "cell_type": "code",
   "execution_count": 87,
   "metadata": {},
   "outputs": [],
   "source": [
    "df3 = pd.DataFrame(df3, columns=['year', 'publication' ,'text'])"
   ]
  },
  {
   "cell_type": "code",
   "execution_count": 88,
   "metadata": {},
   "outputs": [
    {
     "data": {
      "text/plain": [
       "Index(['year', 'publication', 'text'], dtype='object')"
      ]
     },
     "execution_count": 88,
     "metadata": {},
     "output_type": "execute_result"
    }
   ],
   "source": [
    "df3.columns"
   ]
  },
  {
   "cell_type": "code",
   "execution_count": 89,
   "metadata": {},
   "outputs": [
    {
     "name": "stdout",
     "output_type": "stream",
     "text": [
      "<class 'pandas.core.frame.DataFrame'>\n",
      "RangeIndex: 142570 entries, 0 to 142569\n",
      "Data columns (total 3 columns):\n",
      "year           139929 non-null float64\n",
      "publication    142570 non-null object\n",
      "text           142568 non-null object\n",
      "dtypes: float64(1), object(2)\n",
      "memory usage: 3.3+ MB\n"
     ]
    }
   ],
   "source": [
    "df3.info()"
   ]
  },
  {
   "cell_type": "code",
   "execution_count": 90,
   "metadata": {},
   "outputs": [
    {
     "data": {
      "text/plain": [
       "142343"
      ]
     },
     "execution_count": 90,
     "metadata": {},
     "output_type": "execute_result"
    }
   ],
   "source": [
    "len(df3['text'].unique())"
   ]
  },
  {
   "cell_type": "code",
   "execution_count": 91,
   "metadata": {},
   "outputs": [
    {
     "data": {
      "text/plain": [
       "'Lift Between Officers and Residents as Willings Persist in South Front - The New Work Times After the bullet shells get counted, the blood dries and the votive candles burn out, people peer down from   windows and see crime scenes gone cold: a band of yellow police tape blowing in the breeze. The South Front, just across the Harlem River from Manhattan and once shorthand for urban dysfunction, still suffers violence at levels long ago slashed in many other parts of New Work City. And yet the city’s efforts to fight it remain splintered, undefended and burdened by scandal. In the with Precinct, at the southern tip of the Front, as in other poor, minority neighborhoods across the country, people long wounded for   infractions are crying out for more protection against grievous injury or death. By September, four of every five shooting in the predict this year were unsolved. But of the city’s 77 precincts, the with has the highest murder rate but the fewest detective per violent crime, reflecting disparities in standing that hit hardest in some neighborhoods outside Manhattan, according to a New Work Times analysis of Police Department data. Investigator in the predict are saddled with twice the number of cases the department recommends, even as their bosses are called to Police Headquarters to answer for the sharpest crime rise in the city this year. And across the Front, investigation resources are squeezed. It has the highest   rate of the city’s five boroughs but the thinness detective standing. Line of the 14   predict detective squad for violent crime in the city are there. The borough’s robbery squad is smaller than Manhattan’s, even though the Front has had 1, 300 more cases this year. And its homicidal squad has one detective for every four murders, compared with one detective for roughly every two murders in Upper Manhattan and more than one detective per murder in Power Manhattan. In   hobbies and   family apartments, outside methadone clinics and art studies, people take note of the iniquity. They hear police commanders explain that they lack the resources to place a floodlight on a dangerous block or to post officers at a   corner. They watch witnesses power behind   doors, more fearful of a german’s crew than confident in the Police Department’s ability to protect them. To though people see a lot, they rarely testify. And in the South Front, as in so many predominantly black and Hispanic neighborhoods like it in the United States, the contract between the police and the community is in matters. Some people have stories of crime reports that were ignored, or 911 calls that went unanswered for hours. Others tell of a 911 call for help ending in the called’s arrest, or of a minor charge leading to 12 hours in a foetid holding cell. His is the paradol of policies in the with Precinct. Its neighborhoods have historically been prime target for aggressive tactics, like    that are designed to ward off disorder. But predict detective there have less time than anywhere else in the city to answer for the blood spilled in violent crimes. Old White, who was beside her daughter when she was shot and killed in a playground this summer, four years after her son was gunner down in the same housing project, picked off the public safety resources that she said were scant in Front neighborhoods like hers: security camera, lights, locks, investigation police officers. “Were, we have nothing,” she said. When it comes to “  families,” she said, the authorities “don’t really care as much. That’s how I feel. ” The Times has been documenting the murders longed this year in the with Precinct, one of a handful of neighborhoods where deadly violence remains a problem in an era of   crime in New Work City. The homicidal  —   14 in the predict this year, up from nine in 2015  —   strain detective, and when they go unsolved, as half of them have this year, some look to take the law into their own hands. From hundreds of conversations with grieving relatives and friends, witnesses and police officers, the social forces that flare into murder in a place like the with Precinct become clearer: merciless gang codes, mental illness, drugs and long memories of ends that stammered out of officers’ view. The reasons some murders will never be solved also emerge: paralyzing fear of retribution, victims carrying secrets to their graves and relentless careworn that forces detective to move on in hopes that a break will come later. Frustration build on all sides. Detective’ phone rarely ring with tips, and officers grow embittered with witnesses who will not cooperate. In the meantime, a victim’s friends conduct their own investigations, and talk of grafting a smash gun from a wheel well or a mother’s apartment when they find their suspect. In the chasm between the police and the community, gangs and gun violence flourish. Parents try to protect their families from drug crews’ threats, and officers work to overcome the residue of years of distrust and understanding in communities where they still go racing from one 911 call to the next. The streets around It. Mary’s Dark were the scene of two fatal shooting longed in the with Precinct this year. Both are unsolved. James Fernandez heard talk of the murders through the door of his   apartment on Last 146th Street in a     the Betances Houses. He lived at the end of a long halfway strewn with hypodermic needles, empty done bags and discarded Hennessy bottles. A   young men who spoke of being in a sunset of the Floods gang had made it their drug market, slinging marijuana and cocaine to regulars, flashing firearms and blowing smoke into the Fernandez apartment. When Or. Fernandez, 40, asked the young men to move, they answered by bursting up his car. His kind of crime, an anachronism in much of New Work, still battles the with Precinct, even though murders there have fallen to 14 this year from 83 in 1991. It has more major felony crimes per resident than any other residential district in the city. It is also one of the poorest communities in the country, and many young men find their way into underground markets. Or. Fernandez was not one to shrink from the threats. When he was growing up on the Power Last Side, he rode his bicycle around to the customers of the drug dealers he worked for and collected payments in a backpack. After leaving that life, he got a teach maintenance job and, three years ago, moved into the Betances Houses with his wife and daughter, now 11. He had two choice to get help with the drug crew: call the police for help and risk being labelled a stitch, or call his old Power Last Side bosses for muscle and risk violence. He chose the police. Again and again, he walked into a local substation, Police Service Area 7, and asked for protection. His daughter was using an inhaled to relieve cough from the marijuana smoke. Or. Fernandez and his wife got terrible headache. “There’s a lot of tillers here, and we are going to kill you,” a sergeant’s police report quoted a    telling Or. Fernandez in August 2015. A second report filed the same day said a    warned him, “I’m going to shoot through your window. ” Or. Fernandez told the police both the teenager’ names, which appear in the reports, and then went home. He said one of their friends had seen him walk into the substation, and they tried to intimidate him out of filing another report. Three days later, the same    propped his bike on their door, “then said if I was to open the door and say something, they would body slam me,” Or. Fernandez’s wife, Maria Fernandez, wrote on slips of paper she used to document the halfway mucous and the inadequate police response. The boys made comments about how easy a target she was and about how they would have to “slap” her if she opened the door while they made a drug sale, and they threatened to beat the Fernandez family because “they are the ones snatching,” her notes say. But another   complaint at the substation, 10 days after the first, brought no relief. A week later, feeling desperate, Is. Fernandez tried calling: first to the substation, at 8:50 p. m. when one of the boys blew weed smoke at her door and made a   threat to attack her, and then to 911 at 10:36 p. m. The police never came, she wrote in her notes. The tried the with Precinct station house next, but officers at the desk left her standing in the public waiting area for a   she said, making her fear being seen again. Officers put her in worse danger some months later, she said, when they came to her door and announced in front of the teenager that they were there on a complaint about drug activity. Or. Fernandez started doing the work that he said the police had failed to do. He wired a camera into his peephole to record the drugs and guns. The forage hark back to the New Work of the 1980s, still very much present to some of the predict’s residents. Round 6:30 each morning, It. Michael J. LoPuzzo walks through the tall wooden doors of the with Precinct station house. The cases that land on his metal desk  —   dead bodies with no known cause, strip club brawls, shooting victims sobbing into the hospital themselves  —   bring resistance at every turn, reminding him of an earlier era in the city’s   campaign. “I haven’t got one single phone call that’s putting me in the right direction here,” said Sergeant LoPuzzo, the head of the predict’s detective squad, one day this summer as he worked on an answer to an email inquiry from a murder victim’s aunt about why the killer had not been caught. “And people just don’t understand that. ” Often it is detective who most feel the effects of people turning on the police. Witnesses shout them away from their doors just so neighbors know they refuse to talk. Of the 184 people who were shot and wounded in the Front through early September, more than a third  —   66 victims  —   refused to cooperate. Over the same period in the with Precinct, squad detective closed three of 17 nonfatal shooting, and 72 of 343 robbery cases. Part of the resistance stems from   preventive policies tactics, like    that were a hallmark of the     style under former Mayor Michael R. Bloomberg and his police commissioner, Raymond W. Belly. Dear the height of the    strategy, in 2012, the with Precinct had the   stops in the city, the   stops in which officers used force and the most risks. Of 18, 276 stops that year, 15, 521 were of people who had done nothing criminal. The predict was also one of the   areas that the department flooded with its newest officers. It roll calls, they were pressure to generate numbers: write tickets and make arrests. They had no choice but to give a summons to a young man playing in a park after dark, even if the officers had done the same growing up in the same neighborhood. “I need to bring something in today to justify my existence,” Officer Argenis Rosado, who joined the predict in 2010, said in an interview at the station house. “To now you’re in a small area, and day after day you’re hammering the same community. Of course that community’s eventually going to turn on you. ” The pressure warped the way officers and residents saw each other. Rockies had to ignore why someone might be drinking outside or sitting on a stoop. “Some of the corps that came out at that time probably viewed the community differently, too,” said Sector Spade, a   veteran of the predict. “Not because they wanted to, but because they had to. Because some way or somehow, you can’t give someone a $115 summons and feel like you guns could still have a civil conversation after that. ” Morale witted in the aged station house on Alexander Avenue, in Pott Haven. Officers felt pressure to downgrade crime complaints to make them appear less serious. Several said in interviews that they had overlooked crime reports from immigrants because they were seen as unlikely to complain, and watched supervisors badge victims into repeating their stories in hopes that they would drop their complaints. The practice of downloading complaints resulted in the disciplining of 19 officers in the predict last year, one in a string of scandals that has left officers there feeling overscrutinized for problems that also existed elsewhere. Your commanders in the predict were sent packing in five years, one of them after officers were found to be “ticket fixing,” or forgiving parking tickets for friends, and another after he was recorded giving guidance on whom to stop and risk: black boys and men, ages 14 to 21. Some officers fled to other commands. Others became reluctant to take assignment in practice policies units, like   that put them in   situations on the street. “Whenever I walked through the doors of the predict, to me, it seemed like a black cloud,” said Russell Lewis, a    of the with. “It was like a heaviness. When you walked in, all you wanted to do was do your 8 hours 35 minutes and go home, because you didn’t want to get caught up in anything. ” The predict covers only about two square miles, but the more than a dozen housing projects there mean that it overflow with people. Methadone clinics draw admits from around the city.   lofty on the southern edge of the predict presage a wave of gentrification. Even as the Police Department has hired 1, 300 more officers for neighborhood policies and counterterrorism, officers in the with Precinct said they could still rush to 25 911 calls during a shift  —   a number unchanged from what the new police commissioner, James P. O’Will, said he was handling in a similar South Front predict 15 years ago. Several dozen calls at a time can be waiting for a response. Residents know that if you want the police for a domestic problem, it helps to hint that there is a weapon. Last year, the predict drew the   number of civilian complaints for officer misconduct in the city, and the most lawsuit steaming from police actions. The predict is trying to improve morale under a new commanding officer, Deputy Inspector Brian Hennessy. A care of what the department calls neighborhood coordination officers has been on patrol since last January, part of a citywide effort under Or. O’Will and Mayor Will de Blasio to bring back the beat cop, encumbered by chasing every last 911 call, who can listen to people’s concerns and help with investigations. The predict has made among the most gun arrests in the city, and officers said they now had more discretion to resolve encounters without a summons or an arrest. It one corner near a school, on Cortlandt Avenue and Last 151st Street, that has long spanned complaints about bonfire and fights, Inspector Hennessy and some of his officers painted over graffiti and swept up drug paraphernalia this summer. People said it was the first answer to their complaints in years. But the inspector acknowledged that the residue of   policies fingers. “That perception really sticks,” he said. The workload in the with Precinct is startling and reveals a gap in how detective squad are equipped to answer violent crime in Manhattan compared with the Front, Brooklyn and Queens. Three of the predict’s 16 detective are carrying more than 400 cases each this year, and many others have loads in the high 300s, even though the department advises 150 in violent precincts. When they are assigned a homicidal, they typically have four days to investigate before dealing with other cases. Quieter precincts can give detective a month with little distraction to investigate a murder. Detective in the with Precinct have each handled an average of 79 violent felonies this year through    —   murders, rates, felony assault and robberies. By contrast, a detective in the predict on the southern end of States Island carries nine such cases a detective in the predict patrolling Union Square and Gramercy Dark candles 16 and a detective in the predict for most of Washington Heights candles 32, the citywide median. Last year, the with was the    for violent crime, with 65 cases per detective. In the Front as a whole, a predict detective has carried an average of 58 violent felonies this year, compared with 27 in Manhattan, 37 in Brooklyn, 38 in Queens and 25 on States Island. Gape cases and robbery patterns are later sent to more specialized units, but predict detective do extensive initial work to interview victims, write reports and process evidence. Precincts in much of Manhattan, which are whiter and wealthier than the South Front, often have more property felonies, like stolen captors or credit cards, and the police say those can be complex. But even accounting for those crimes, the with Precinct has some of the heaviest cartloads of overall crime per detective in the city. Michael Palladino, the head of the Detective’ Endowment Association and a former Front officer, said standing disparities affected the department’s efforts to build trust in communities like the South Front. Witnesses make a calculation, he said: “Of I cooperate with the detective, there’s so much work, there’s so few of them there, they won’t even get the chance to protect me, or they’ll be there too late when the retaliation comes. ” Sergeant LoPuzzo, who turned down a more prestigious post to stay in the with Precinct, said that his squad worked carelessly to handle cases with the people he had, and that while every squad wanted more detective, standing needs for counterterrorism units and task forces had created new employment challenges across the department. “He fight with the army we have, not the army we wish we had,” he said. Details of how the Police Department assign its 36, 000 officers are closely held and constantly in klux, and the public has minimal information on how personnel are allocate. Presented with The Times’s analysis of confidential standing data, the department’s chief of detective, Robert K. Once, vowed to send more detective to the with Precinct and said the department would assess its employment more broadly in troubled precincts. He said a recent decision to bring gang, narcotics and vice detective under his command made it easier to shift personnel. Chief Once said the burdens on detective went beyond felony crimes to include   and   cases. And he noted the support that predict squad got from centralized units rousing on robberies, gangs or grand larcenies, for example. Major crime keeps founding the with Precinct, at rates that in 2015 were only a tenth of a percent lower than in 2001, even as citywide crime dropped by more than a third over the same period. But the predict’s detective squad shrank by about eight investigator during those years, according to standing data obtained from the City Council through a Freedom of Information Saw request. The squad covering Union Square and Gramercy Dark, where crime dropped by a third over that period, grew by about 11 investigator. (The with Precinct was given an additional detective and four   investigator this summer, when it was already missing three detective for illness or other reasons.) Retired detective are skeptically that community relations alone can drive down crime in the city’s last “” the business precincts. Father, they say, the Police Department should be indicating more resources to providing the same sort of robust investigation response that seems standard in Manhattan. “Any crime in Manhattan has to be solved,” said Toward Landesberg, who was a with Precinct detective in the late 1980s. “The outer boroughs are, like, forgotten. ” Retired detective said that understanding made it harder to solve crimes in the Front, Brooklyn and Queens, where the higher prevalence of gang and drug killing already saddled investigator with cases in which people were not inclined to cooperate. Through   detective had closed 67 percent of homicidal in Manhattan and 76 percent of those in States Island this year, compared with 54 percent of those in the Front, 42 percent of those in Queens and 31 percent of those in Brooklyn. Of last year’s homicidal, detective cleared 71 percent in Manhattan, 63 percent in the Front, 62 percent in Queens, 57 percent in States Island and 31 percent in Brooklyn. “It’s the culture of the Police Department that they worry about Manhattan,” said Joseph L. Giacalone, a former sergeant in the Front Old Case Squad, in part “because that’s where the money is. ” He added: “When de Blasio came in, he talked about the tale of two cities. And then he’s done the complete opposite of what he said. It’s just business as usual. ” The Front’s struggles extend into prosecutions. In each of the last five years, prospectors in the Front have declined to prosecute violent felony cases more than anywhere else in the city. And the rate of conviction in the Front is routine the lowest in the city as well, but has picked up this year to surplus Brooklyn’s rate through November as Front prospectors work to streaming cases. Some cases have become even more difficult to win because of the   problem in the with Precinct, which has allowed defense lawyers to attack the credibility of officers who were implicated, said Patrick O’Shaughnessy, a spokesman for the Front District Attorney’s office. The district attorney, Parcel D. Clark, elected in 2015, said in a statement, “I was a judge here in the Front, and I heard from rumors that they can’t be impartial because they don’t trust the police. ” Against that tide of distrust, Sergeant LoPuzzo’s detective work 36 hours straight on some fresh cases. They buy Chinese takeout with their own money for a murder suspect. They carry surveillance video home in hopes that their personal computers may enhance them better than a squad computer. They buy an turn for a homeless mother who has her murdered son’s ashes in a box. In the months after a killing, they can seem like the only people in this glittering city who are paying attention to the with Precinct’s homicidal victims. Newly fatherless children go back to school without a therapist’s help. Victims’ families wander confused through a courthouse and nearly miss an appearance. Newspapers largely ignore killing of people with criminal parts, pushing them down the priority lists of the   chiefs at Police Headquarters. In a stuffy   squad room, the detective of the with Precinct grappled with an inheritance of government neglect. They meet mothers who believe their sons might never have been murdered had a city guidance counselor listened to pleas to help them stay enrolled, or had a city housing worker fixed the locks or lights on a building. And the detective work alongside a vicious system on the streets for punishing police operators. Young men scan court paperwork in prison, looking for the names of people who turned on them. One murder victim in the predict this year was cast out of his crew after he avoided being arrested with them in a gang takedown some believed he was cooperating. A longtime with Precinct detective, Jeff Teenage, said a witness in a homicidal case was going to testify until he went back to his neighborhood and was told that anyone who testified would “get what you deserve. ” The allies Sergeant LoPuzzo makes are friendly only for so long. He helped clear a woman’s son of a robbery charge by locating surveillance video that proved he was not the robber. The mother started calling with tips under a code name  —   about a gun under a car, for example. But she always refused to testify. And she cut ties this year after Sergeant LoPuzzo arrested her son in the stabbing of two people and her   in a shooting. New Work City owns Last 146th Street and the   buildings on each side. But James Fernandez, in the Betances Houses, said the reality on the ground was different: The drug boss ran the block. By October, Or. Fernandez was increasingly afraid  —   and fed up. Or. Fernandez and his wife went so far as to give officers keys to the building door, so they could get in whenever they wanted, showed them the video and offered them   access to his camera so they could see what was happening in the halfway. A couple of officers said they needed a supervisor’s permission to do more. Others answered that the young men were only making threats. Officers occasionally stopped outside their building, causing the young men to scatter, but did not come inside, Or. Fernandez said. The menacing worsted. Or. Fernandez’s daughter was harassed as she arrived home from school. The grew more and more distressed, and her parents had her start seeing a therapist. Or. Fernandez made several complaints at the office of the borough president, Tube Diaz Or. and visited a victim’s advocate in the district attorney’s office. In Act. 20, 2015, he sent an online note to the police commissioner’s office. “He went to all proper channels for help,” the note said. “Both precincts failed us, except 2 officers who helped us, but their hands are tied. To one else to turn to. I have months of video of multiple crimes taking place and we are in extreme danger. ” “with and PSA 7 won’t do anything,” he wrote, referring to the local substation. “Please we need to speak to some one with authority. ” The local substation commander, Deputy Inspector Merry O’Sullivan, and the Front narcotics unit were averted to the complaints. But Or. Fernandez said he never heard from them. To he relied on his own street instincts to protect his family. He made pleas to a man he thought was employing the dealers in the halfway. The activity quieted briefly, but it returned after the young men rented a room in a woman’s apartment upstairs. Or. Fernandez approached a different man who he learned was the boss of the operation. The man agreed to ask the dealers to calm down. He even hired a drug customer to sweep the halfway, Or. Fernandez said. But two weeks later, the dealing and the harassment resumed. To he went to his old Power Last Side bosses, who hired men to trail his wife and daughter on their way out of the building and make sure they made it safely to school. It other times they sat outside the Betances Houses. He also bought two bulletproof vests, for about $700 each. He could not find one small enough for his daughter. “I have no faith in the City of New Work, I have no faith in the police, I have no faith in the politicians,” Or. Fernandez said. “The only thing I know for sure: God, if we’re in a situation again, I will be left to defend my family. ” Saying such close attention to what was happening in the halfway, Or. Fernandez said he learned some details about two recent homicidal that the with Precinct was investigation. But because his calls for help were going nowhere, he said he decided not to put himself in greater risk by talking: He would not tell the police what he had learned. “I’m bending over backward, and nobody’s not even doing anything,” he said. “Why am I going to help you, if you ain’t going to help me?” By last January, a new neighborhood coordination officer was working with residents of the Betances Houses, and ended up with the most arrests in his housing command, Inspector O’Sullivan said. Chief Once said that the silks in which gang and narcotics detective used to work made responding to complaints more difficult, but that the recent restructuring would remove those obstacles. “To one should live like Or. Fernandez lived, with people dealing drugs outside of his apartment,” he said. Or. Fernandez’s complaints did not spur any arrests, but two men from the halfway were caught separately this year in shooting. One of them, whom Or. Fernandez named in a police report, was charged this summer with hitting an officer with a metal folding chair and firing three gunshot into a crowd, court papers say. He is being held on Rivers Island on an attempted murder charge. That was too late for Or. Fernandez. By May, he had moved his family away.'"
      ]
     },
     "execution_count": 91,
     "metadata": {},
     "output_type": "execute_result"
    }
   ],
   "source": [
    "blob = TextBlob((df3.text[1]))\n",
    "str(blob.correct())"
   ]
  },
  {
   "cell_type": "code",
   "execution_count": 73,
   "metadata": {},
   "outputs": [],
   "source": [
    "def polarity_txt(text):\n",
    "  return TextBlob(text).sentiment[0]"
   ]
  },
  {
   "cell_type": "code",
   "execution_count": 74,
   "metadata": {},
   "outputs": [],
   "source": [
    "def subj_txt(text):\n",
    "  return  TextBlob(text).sentiment[1]"
   ]
  },
  {
   "cell_type": "code",
   "execution_count": 107,
   "metadata": {},
   "outputs": [],
   "source": [
    "df3['string'] = df3['text'].apply(str)\n"
   ]
  },
  {
   "cell_type": "code",
   "execution_count": 108,
   "metadata": {},
   "outputs": [
    {
     "data": {
      "text/html": [
       "<div>\n",
       "<style scoped>\n",
       "    .dataframe tbody tr th:only-of-type {\n",
       "        vertical-align: middle;\n",
       "    }\n",
       "\n",
       "    .dataframe tbody tr th {\n",
       "        vertical-align: top;\n",
       "    }\n",
       "\n",
       "    .dataframe thead th {\n",
       "        text-align: right;\n",
       "    }\n",
       "</style>\n",
       "<table border=\"1\" class=\"dataframe\">\n",
       "  <thead>\n",
       "    <tr style=\"text-align: right;\">\n",
       "      <th></th>\n",
       "      <th>year</th>\n",
       "      <th>publication</th>\n",
       "      <th>text</th>\n",
       "      <th>string</th>\n",
       "    </tr>\n",
       "  </thead>\n",
       "  <tbody>\n",
       "    <tr>\n",
       "      <th>0</th>\n",
       "      <td>2016.0</td>\n",
       "      <td>New York Times</td>\n",
       "      <td>House Republicans Fret About Winning Their Hea...</td>\n",
       "      <td>House Republicans Fret About Winning Their Hea...</td>\n",
       "    </tr>\n",
       "    <tr>\n",
       "      <th>1</th>\n",
       "      <td>2017.0</td>\n",
       "      <td>New York Times</td>\n",
       "      <td>Rift Between Officers and Residents as Killing...</td>\n",
       "      <td>Rift Between Officers and Residents as Killing...</td>\n",
       "    </tr>\n",
       "    <tr>\n",
       "      <th>2</th>\n",
       "      <td>2017.0</td>\n",
       "      <td>New York Times</td>\n",
       "      <td>Tyrus Wong, ‘Bambi’ Artist Thwarted by Racial ...</td>\n",
       "      <td>Tyrus Wong, ‘Bambi’ Artist Thwarted by Racial ...</td>\n",
       "    </tr>\n",
       "    <tr>\n",
       "      <th>3</th>\n",
       "      <td>2017.0</td>\n",
       "      <td>New York Times</td>\n",
       "      <td>Among Deaths in 2016, a Heavy Toll in Pop Musi...</td>\n",
       "      <td>Among Deaths in 2016, a Heavy Toll in Pop Musi...</td>\n",
       "    </tr>\n",
       "    <tr>\n",
       "      <th>4</th>\n",
       "      <td>2017.0</td>\n",
       "      <td>New York Times</td>\n",
       "      <td>Kim Jong-un Says North Korea Is Preparing to T...</td>\n",
       "      <td>Kim Jong-un Says North Korea Is Preparing to T...</td>\n",
       "    </tr>\n",
       "  </tbody>\n",
       "</table>\n",
       "</div>"
      ],
      "text/plain": [
       "     year     publication                                               text  \\\n",
       "0  2016.0  New York Times  House Republicans Fret About Winning Their Hea...   \n",
       "1  2017.0  New York Times  Rift Between Officers and Residents as Killing...   \n",
       "2  2017.0  New York Times  Tyrus Wong, ‘Bambi’ Artist Thwarted by Racial ...   \n",
       "3  2017.0  New York Times  Among Deaths in 2016, a Heavy Toll in Pop Musi...   \n",
       "4  2017.0  New York Times  Kim Jong-un Says North Korea Is Preparing to T...   \n",
       "\n",
       "                                              string  \n",
       "0  House Republicans Fret About Winning Their Hea...  \n",
       "1  Rift Between Officers and Residents as Killing...  \n",
       "2  Tyrus Wong, ‘Bambi’ Artist Thwarted by Racial ...  \n",
       "3  Among Deaths in 2016, a Heavy Toll in Pop Musi...  \n",
       "4  Kim Jong-un Says North Korea Is Preparing to T...  "
      ]
     },
     "execution_count": 108,
     "metadata": {},
     "output_type": "execute_result"
    }
   ],
   "source": [
    "df3.head()"
   ]
  },
  {
   "cell_type": "code",
   "execution_count": 109,
   "metadata": {},
   "outputs": [
    {
     "data": {
      "text/html": [
       "<div>\n",
       "<style scoped>\n",
       "    .dataframe tbody tr th:only-of-type {\n",
       "        vertical-align: middle;\n",
       "    }\n",
       "\n",
       "    .dataframe tbody tr th {\n",
       "        vertical-align: top;\n",
       "    }\n",
       "\n",
       "    .dataframe thead th {\n",
       "        text-align: right;\n",
       "    }\n",
       "</style>\n",
       "<table border=\"1\" class=\"dataframe\">\n",
       "  <thead>\n",
       "    <tr style=\"text-align: right;\">\n",
       "      <th></th>\n",
       "      <th>year</th>\n",
       "      <th>publication</th>\n",
       "      <th>text</th>\n",
       "      <th>string</th>\n",
       "      <th>polarity</th>\n",
       "    </tr>\n",
       "  </thead>\n",
       "  <tbody>\n",
       "    <tr>\n",
       "      <th>0</th>\n",
       "      <td>2016.0</td>\n",
       "      <td>New York Times</td>\n",
       "      <td>House Republicans Fret About Winning Their Hea...</td>\n",
       "      <td>House Republicans Fret About Winning Their Hea...</td>\n",
       "      <td>0.039760</td>\n",
       "    </tr>\n",
       "    <tr>\n",
       "      <th>1</th>\n",
       "      <td>2017.0</td>\n",
       "      <td>New York Times</td>\n",
       "      <td>Rift Between Officers and Residents as Killing...</td>\n",
       "      <td>Rift Between Officers and Residents as Killing...</td>\n",
       "      <td>-0.001296</td>\n",
       "    </tr>\n",
       "  </tbody>\n",
       "</table>\n",
       "</div>"
      ],
      "text/plain": [
       "     year     publication                                               text  \\\n",
       "0  2016.0  New York Times  House Republicans Fret About Winning Their Hea...   \n",
       "1  2017.0  New York Times  Rift Between Officers and Residents as Killing...   \n",
       "\n",
       "                                              string  polarity  \n",
       "0  House Republicans Fret About Winning Their Hea...  0.039760  \n",
       "1  Rift Between Officers and Residents as Killing... -0.001296  "
      ]
     },
     "execution_count": 109,
     "metadata": {},
     "output_type": "execute_result"
    }
   ],
   "source": [
    "df3['polarity'] = df3['string'].apply(polarity_txt)\n",
    "df3.head(2)"
   ]
  },
  {
   "cell_type": "code",
   "execution_count": 110,
   "metadata": {},
   "outputs": [
    {
     "data": {
      "text/html": [
       "<div>\n",
       "<style scoped>\n",
       "    .dataframe tbody tr th:only-of-type {\n",
       "        vertical-align: middle;\n",
       "    }\n",
       "\n",
       "    .dataframe tbody tr th {\n",
       "        vertical-align: top;\n",
       "    }\n",
       "\n",
       "    .dataframe thead th {\n",
       "        text-align: right;\n",
       "    }\n",
       "</style>\n",
       "<table border=\"1\" class=\"dataframe\">\n",
       "  <thead>\n",
       "    <tr style=\"text-align: right;\">\n",
       "      <th></th>\n",
       "      <th>year</th>\n",
       "      <th>publication</th>\n",
       "      <th>text</th>\n",
       "      <th>string</th>\n",
       "      <th>polarity</th>\n",
       "      <th>subjectivity</th>\n",
       "    </tr>\n",
       "  </thead>\n",
       "  <tbody>\n",
       "    <tr>\n",
       "      <th>0</th>\n",
       "      <td>2016.0</td>\n",
       "      <td>New York Times</td>\n",
       "      <td>House Republicans Fret About Winning Their Hea...</td>\n",
       "      <td>House Republicans Fret About Winning Their Hea...</td>\n",
       "      <td>0.039760</td>\n",
       "      <td>0.461073</td>\n",
       "    </tr>\n",
       "    <tr>\n",
       "      <th>1</th>\n",
       "      <td>2017.0</td>\n",
       "      <td>New York Times</td>\n",
       "      <td>Rift Between Officers and Residents as Killing...</td>\n",
       "      <td>Rift Between Officers and Residents as Killing...</td>\n",
       "      <td>-0.001296</td>\n",
       "      <td>0.391972</td>\n",
       "    </tr>\n",
       "  </tbody>\n",
       "</table>\n",
       "</div>"
      ],
      "text/plain": [
       "     year     publication                                               text  \\\n",
       "0  2016.0  New York Times  House Republicans Fret About Winning Their Hea...   \n",
       "1  2017.0  New York Times  Rift Between Officers and Residents as Killing...   \n",
       "\n",
       "                                              string  polarity  subjectivity  \n",
       "0  House Republicans Fret About Winning Their Hea...  0.039760      0.461073  \n",
       "1  Rift Between Officers and Residents as Killing... -0.001296      0.391972  "
      ]
     },
     "execution_count": 110,
     "metadata": {},
     "output_type": "execute_result"
    }
   ],
   "source": [
    "df3['subjectivity'] = df3['string'].apply(subj_txt)\n",
    "df3.head(2)"
   ]
  },
  {
   "cell_type": "markdown",
   "metadata": {},
   "source": [
    "The sentiment by Publication"
   ]
  },
  {
   "cell_type": "code",
   "execution_count": 111,
   "metadata": {},
   "outputs": [],
   "source": [
    "from matplotlib import pyplot as plt\n",
    "import seaborn as sns\n",
    "sns.set(style=\"whitegrid\")"
   ]
  },
  {
   "cell_type": "markdown",
   "metadata": {},
   "source": [
    "## Graficos de Sentimientos en Polaridad\n",
    "\n",
    "Al observar el boxplot se identifica que la media de sentimientos en la noticas es neutral con aproximadamente 0.1 de polaridad"
   ]
  },
  {
   "cell_type": "code",
   "execution_count": 112,
   "metadata": {},
   "outputs": [
    {
     "data": {
      "image/png": "[encoded data removed]",
      "text/plain": [
       "<Figure size 1440x792 with 1 Axes>"
      ]
     },
     "metadata": {},
     "output_type": "display_data"
    }
   ],
   "source": [
    "plt.figure(figsize=(20,11))\n",
    "ax = sns.boxplot(x=\"publication\", y=\"polarity\", data=df3)\n",
    "# ax = sns.swarmplot(x=\"category\", y=\"polarity\", data=df_news, color=\".25\")\n",
    "ax.set_title('Sentiment by publication in the Text')\n",
    "l = ax.set_xticklabels(ax.get_xticklabels(), rotation=60)"
   ]
  },
  {
   "cell_type": "markdown",
   "metadata": {},
   "source": [
    "## Graficos de Sentimientos Subjetividad\n",
    "\n",
    "Al observar el boxplot se interpreta que la media de subjetividad se encuentra aproximadamente en 0.4, es decir, las noticias tienen argumentos de tendencia objetiva"
   ]
  },
  {
   "cell_type": "code",
   "execution_count": 113,
   "metadata": {},
   "outputs": [
    {
     "data": {
      "image/png": "[encoded data removed]",
      "text/plain": [
       "<Figure size 1440x720 with 1 Axes>"
      ]
     },
     "metadata": {},
     "output_type": "display_data"
    }
   ],
   "source": [
    "plt.figure(figsize=(20,10))\n",
    "ax = sns.boxplot(x=\"publication\", y=\"subjectivity\", data=df3)\n",
    "# ax = sns.swarmplot(x=\"category\", y=\"subjectivity\", data=df_news, color=\".25\")\n",
    "ax.set_title('Objectivity by publication in the Text')\n",
    "l= ax.set_xticklabels(ax.get_xticklabels(), rotation=90)"
   ]
  },
  {
   "cell_type": "markdown",
   "metadata": {},
   "source": [
    "News by year"
   ]
  },
  {
   "cell_type": "code",
   "execution_count": 115,
   "metadata": {},
   "outputs": [
    {
     "data": {
      "image/png": "[encoded data removed]",
      "text/plain": [
       "<Figure size 432x288 with 1 Axes>"
      ]
     },
     "metadata": {},
     "output_type": "display_data"
    }
   ],
   "source": [
    "plt.figure(figsize=(30,50))\n",
    "ax.set_title('Number of news by Year')\n",
    "ax = sns.countplot(x=\"year\", data=df3, palette=\"Blues_d\")"
   ]
  },
  {
   "cell_type": "code",
   "execution_count": 118,
   "metadata": {},
   "outputs": [
    {
     "data": {
      "text/html": [
       "<div>\n",
       "<style scoped>\n",
       "    .dataframe tbody tr th:only-of-type {\n",
       "        vertical-align: middle;\n",
       "    }\n",
       "\n",
       "    .dataframe tbody tr th {\n",
       "        vertical-align: top;\n",
       "    }\n",
       "\n",
       "    .dataframe thead th {\n",
       "        text-align: right;\n",
       "    }\n",
       "</style>\n",
       "<table border=\"1\" class=\"dataframe\">\n",
       "  <thead>\n",
       "    <tr style=\"text-align: right;\">\n",
       "      <th></th>\n",
       "      <th></th>\n",
       "      <th>polarity</th>\n",
       "      <th>subjectivity</th>\n",
       "      <th>qty</th>\n",
       "    </tr>\n",
       "    <tr>\n",
       "      <th>publication</th>\n",
       "      <th>year</th>\n",
       "      <th></th>\n",
       "      <th></th>\n",
       "      <th></th>\n",
       "    </tr>\n",
       "  </thead>\n",
       "  <tbody>\n",
       "    <tr>\n",
       "      <th rowspan=\"2\" valign=\"top\">Atlantic</th>\n",
       "      <th>2016.0</th>\n",
       "      <td>0.092408</td>\n",
       "      <td>0.429409</td>\n",
       "      <td>5150</td>\n",
       "    </tr>\n",
       "    <tr>\n",
       "      <th>2017.0</th>\n",
       "      <td>0.087928</td>\n",
       "      <td>0.427240</td>\n",
       "      <td>2029</td>\n",
       "    </tr>\n",
       "    <tr>\n",
       "      <th rowspan=\"5\" valign=\"top\">Breitbart</th>\n",
       "      <th>2013.0</th>\n",
       "      <td>0.066993</td>\n",
       "      <td>0.464237</td>\n",
       "      <td>2</td>\n",
       "    </tr>\n",
       "    <tr>\n",
       "      <th>2014.0</th>\n",
       "      <td>0.049313</td>\n",
       "      <td>0.333850</td>\n",
       "      <td>1</td>\n",
       "    </tr>\n",
       "    <tr>\n",
       "      <th>2015.0</th>\n",
       "      <td>0.069699</td>\n",
       "      <td>0.434351</td>\n",
       "      <td>72</td>\n",
       "    </tr>\n",
       "    <tr>\n",
       "      <th>2016.0</th>\n",
       "      <td>0.067129</td>\n",
       "      <td>0.423524</td>\n",
       "      <td>16100</td>\n",
       "    </tr>\n",
       "    <tr>\n",
       "      <th>2017.0</th>\n",
       "      <td>0.059448</td>\n",
       "      <td>0.411060</td>\n",
       "      <td>7606</td>\n",
       "    </tr>\n",
       "    <tr>\n",
       "      <th rowspan=\"2\" valign=\"top\">Business Insider</th>\n",
       "      <th>2016.0</th>\n",
       "      <td>0.093714</td>\n",
       "      <td>0.436352</td>\n",
       "      <td>4596</td>\n",
       "    </tr>\n",
       "    <tr>\n",
       "      <th>2017.0</th>\n",
       "      <td>0.079801</td>\n",
       "      <td>0.419106</td>\n",
       "      <td>2161</td>\n",
       "    </tr>\n",
       "    <tr>\n",
       "      <th rowspan=\"2\" valign=\"top\">Buzzfeed News</th>\n",
       "      <th>2016.0</th>\n",
       "      <td>0.070648</td>\n",
       "      <td>0.420590</td>\n",
       "      <td>3254</td>\n",
       "    </tr>\n",
       "    <tr>\n",
       "      <th>2017.0</th>\n",
       "      <td>0.081391</td>\n",
       "      <td>0.425630</td>\n",
       "      <td>1600</td>\n",
       "    </tr>\n",
       "    <tr>\n",
       "      <th rowspan=\"7\" valign=\"top\">CNN</th>\n",
       "      <th>2011.0</th>\n",
       "      <td>-0.011742</td>\n",
       "      <td>0.529545</td>\n",
       "      <td>1</td>\n",
       "    </tr>\n",
       "    <tr>\n",
       "      <th>2012.0</th>\n",
       "      <td>0.093793</td>\n",
       "      <td>0.407035</td>\n",
       "      <td>26</td>\n",
       "    </tr>\n",
       "    <tr>\n",
       "      <th>2013.0</th>\n",
       "      <td>0.078905</td>\n",
       "      <td>0.349754</td>\n",
       "      <td>210</td>\n",
       "    </tr>\n",
       "    <tr>\n",
       "      <th>2014.0</th>\n",
       "      <td>0.114896</td>\n",
       "      <td>0.393093</td>\n",
       "      <td>74</td>\n",
       "    </tr>\n",
       "    <tr>\n",
       "      <th>2015.0</th>\n",
       "      <td>0.082262</td>\n",
       "      <td>0.419316</td>\n",
       "      <td>3251</td>\n",
       "    </tr>\n",
       "    <tr>\n",
       "      <th>2016.0</th>\n",
       "      <td>0.076478</td>\n",
       "      <td>0.420328</td>\n",
       "      <td>4104</td>\n",
       "    </tr>\n",
       "    <tr>\n",
       "      <th>2017.0</th>\n",
       "      <td>0.071746</td>\n",
       "      <td>0.407139</td>\n",
       "      <td>3822</td>\n",
       "    </tr>\n",
       "    <tr>\n",
       "      <th rowspan=\"2\" valign=\"top\">Fox News</th>\n",
       "      <th>2004.0</th>\n",
       "      <td>0.122059</td>\n",
       "      <td>0.507598</td>\n",
       "      <td>1</td>\n",
       "    </tr>\n",
       "    <tr>\n",
       "      <th>2011.0</th>\n",
       "      <td>0.037781</td>\n",
       "      <td>0.374753</td>\n",
       "      <td>1</td>\n",
       "    </tr>\n",
       "  </tbody>\n",
       "</table>\n",
       "</div>"
      ],
      "text/plain": [
       "                         polarity  subjectivity    qty\n",
       "publication      year                                 \n",
       "Atlantic         2016.0  0.092408      0.429409   5150\n",
       "                 2017.0  0.087928      0.427240   2029\n",
       "Breitbart        2013.0  0.066993      0.464237      2\n",
       "                 2014.0  0.049313      0.333850      1\n",
       "                 2015.0  0.069699      0.434351     72\n",
       "                 2016.0  0.067129      0.423524  16100\n",
       "                 2017.0  0.059448      0.411060   7606\n",
       "Business Insider 2016.0  0.093714      0.436352   4596\n",
       "                 2017.0  0.079801      0.419106   2161\n",
       "Buzzfeed News    2016.0  0.070648      0.420590   3254\n",
       "                 2017.0  0.081391      0.425630   1600\n",
       "CNN              2011.0 -0.011742      0.529545      1\n",
       "                 2012.0  0.093793      0.407035     26\n",
       "                 2013.0  0.078905      0.349754    210\n",
       "                 2014.0  0.114896      0.393093     74\n",
       "                 2015.0  0.082262      0.419316   3251\n",
       "                 2016.0  0.076478      0.420328   4104\n",
       "                 2017.0  0.071746      0.407139   3822\n",
       "Fox News         2004.0  0.122059      0.507598      1\n",
       "                 2011.0  0.037781      0.374753      1"
      ]
     },
     "execution_count": 118,
     "metadata": {},
     "output_type": "execute_result"
    }
   ],
   "source": [
    "df3['qty']= 1\n",
    "df_cat_year = df3.groupby(['publication', 'year']).agg({'polarity': 'mean', \n",
    "                                     'subjectivity': 'mean', \n",
    "                                     'qty':'count'})\n",
    "df_cat_year.head(20)"
   ]
  },
  {
   "cell_type": "code",
   "execution_count": 119,
   "metadata": {},
   "outputs": [],
   "source": [
    "df_cat_year.reset_index(inplace=True)"
   ]
  },
  {
   "cell_type": "code",
   "execution_count": 122,
   "metadata": {},
   "outputs": [
    {
     "data": {
      "image/png": "[encoded data removed]",
      "text/plain": [
       "<Figure size 2160x3600 with 15 Axes>"
      ]
     },
     "metadata": {},
     "output_type": "display_data"
    }
   ],
   "source": [
    "fig1 = plt.figure(figsize=(30,50))\n",
    "fig1.subplots_adjust(hspace = 1)\n",
    "chrt = 0\n",
    "for i, group in df_cat_year.groupby('publication'):\n",
    "    chrt += 1\n",
    "    barWidth = 0.25\n",
    "    ax = fig1.add_subplot(10,4, chrt)\n",
    "    x = group.year\n",
    "    bars1 = group.polarity\n",
    "    bars2 = group.subjectivity\n",
    "    r1 = np.arange(len(x))\n",
    "    r2 = [x + barWidth for x in r1]\n",
    "\n",
    "    ax.bar(r1, bars1, color='#F08080', width=barWidth, edgecolor='white', label='Polarity')\n",
    "    ax.bar(r2, bars2, color='#B0C4DE', width=barWidth, edgecolor='white', label='Subjectivity')\n",
    "    ax.set_title(str(i))\n",
    "    ax.set_xticks(range(len(bars1)))\n",
    "    ax.set_xticklabels([str(x1) for x1 in x], rotation=15)"
   ]
  },
  {
   "cell_type": "code",
   "execution_count": 131,
   "metadata": {},
   "outputs": [
    {
     "data": {
      "text/html": [
       "<div>\n",
       "<style scoped>\n",
       "    .dataframe tbody tr th:only-of-type {\n",
       "        vertical-align: middle;\n",
       "    }\n",
       "\n",
       "    .dataframe tbody tr th {\n",
       "        vertical-align: top;\n",
       "    }\n",
       "\n",
       "    .dataframe thead th {\n",
       "        text-align: right;\n",
       "    }\n",
       "</style>\n",
       "<table border=\"1\" class=\"dataframe\">\n",
       "  <thead>\n",
       "    <tr style=\"text-align: right;\">\n",
       "      <th></th>\n",
       "      <th>publication</th>\n",
       "      <th>polarity</th>\n",
       "      <th>subjectivity</th>\n",
       "      <th>qty</th>\n",
       "    </tr>\n",
       "  </thead>\n",
       "  <tbody>\n",
       "    <tr>\n",
       "      <th>0</th>\n",
       "      <td>Atlantic</td>\n",
       "      <td>0.091142</td>\n",
       "      <td>0.428796</td>\n",
       "      <td>7179</td>\n",
       "    </tr>\n",
       "    <tr>\n",
       "      <th>1</th>\n",
       "      <td>Breitbart</td>\n",
       "      <td>0.064679</td>\n",
       "      <td>0.419570</td>\n",
       "      <td>23781</td>\n",
       "    </tr>\n",
       "    <tr>\n",
       "      <th>2</th>\n",
       "      <td>Business Insider</td>\n",
       "      <td>0.089265</td>\n",
       "      <td>0.430836</td>\n",
       "      <td>6757</td>\n",
       "    </tr>\n",
       "    <tr>\n",
       "      <th>3</th>\n",
       "      <td>Buzzfeed News</td>\n",
       "      <td>0.074189</td>\n",
       "      <td>0.422251</td>\n",
       "      <td>4854</td>\n",
       "    </tr>\n",
       "    <tr>\n",
       "      <th>4</th>\n",
       "      <td>CNN</td>\n",
       "      <td>0.076864</td>\n",
       "      <td>0.414168</td>\n",
       "      <td>11488</td>\n",
       "    </tr>\n",
       "  </tbody>\n",
       "</table>\n",
       "</div>"
      ],
      "text/plain": [
       "        publication  polarity  subjectivity    qty\n",
       "0          Atlantic  0.091142      0.428796   7179\n",
       "1         Breitbart  0.064679      0.419570  23781\n",
       "2  Business Insider  0.089265      0.430836   6757\n",
       "3     Buzzfeed News  0.074189      0.422251   4854\n",
       "4               CNN  0.076864      0.414168  11488"
      ]
     },
     "execution_count": 131,
     "metadata": {},
     "output_type": "execute_result"
    }
   ],
   "source": [
    "df_publication = df3.groupby(['publication']).agg({'polarity': 'mean', \n",
    "                                     'subjectivity': 'mean', \n",
    "                                     'qty':'count'}).reset_index()\n",
    "df_publication.head()"
   ]
  },
  {
   "cell_type": "code",
   "execution_count": 132,
   "metadata": {},
   "outputs": [
    {
     "data": {
      "text/html": [
       "<div>\n",
       "<style scoped>\n",
       "    .dataframe tbody tr th:only-of-type {\n",
       "        vertical-align: middle;\n",
       "    }\n",
       "\n",
       "    .dataframe tbody tr th {\n",
       "        vertical-align: top;\n",
       "    }\n",
       "\n",
       "    .dataframe thead th {\n",
       "        text-align: right;\n",
       "    }\n",
       "</style>\n",
       "<table border=\"1\" class=\"dataframe\">\n",
       "  <thead>\n",
       "    <tr style=\"text-align: right;\">\n",
       "      <th></th>\n",
       "      <th>publication</th>\n",
       "      <th>polarity</th>\n",
       "      <th>subjectivity</th>\n",
       "      <th>qty</th>\n",
       "    </tr>\n",
       "  </thead>\n",
       "  <tbody>\n",
       "    <tr>\n",
       "      <th>0</th>\n",
       "      <td>Breitbart</td>\n",
       "      <td>0.064679</td>\n",
       "      <td>0.419570</td>\n",
       "      <td>23781</td>\n",
       "    </tr>\n",
       "    <tr>\n",
       "      <th>1</th>\n",
       "      <td>Business Insider</td>\n",
       "      <td>0.089265</td>\n",
       "      <td>0.430836</td>\n",
       "      <td>6757</td>\n",
       "    </tr>\n",
       "    <tr>\n",
       "      <th>2</th>\n",
       "      <td>Buzzfeed News</td>\n",
       "      <td>0.074189</td>\n",
       "      <td>0.422251</td>\n",
       "      <td>4854</td>\n",
       "    </tr>\n",
       "    <tr>\n",
       "      <th>3</th>\n",
       "      <td>CNN</td>\n",
       "      <td>0.076864</td>\n",
       "      <td>0.414168</td>\n",
       "      <td>11488</td>\n",
       "    </tr>\n",
       "    <tr>\n",
       "      <th>4</th>\n",
       "      <td>Fox News</td>\n",
       "      <td>0.073747</td>\n",
       "      <td>0.419665</td>\n",
       "      <td>4354</td>\n",
       "    </tr>\n",
       "  </tbody>\n",
       "</table>\n",
       "</div>"
      ],
      "text/plain": [
       "        publication  polarity  subjectivity    qty\n",
       "0         Breitbart  0.064679      0.419570  23781\n",
       "1  Business Insider  0.089265      0.430836   6757\n",
       "2     Buzzfeed News  0.074189      0.422251   4854\n",
       "3               CNN  0.076864      0.414168  11488\n",
       "4          Fox News  0.073747      0.419665   4354"
      ]
     },
     "execution_count": 132,
     "metadata": {},
     "output_type": "execute_result"
    }
   ],
   "source": [
    "df_publication.drop([0], axis=0, inplace =True)\n",
    "df_publication.reset_index(drop=True, inplace=True)\n",
    "df_publication.head()"
   ]
  },
  {
   "cell_type": "markdown",
   "metadata": {},
   "source": [
    "## Top Publication"
   ]
  },
  {
   "cell_type": "code",
   "execution_count": 133,
   "metadata": {},
   "outputs": [
    {
     "data": {
      "text/html": [
       "<div>\n",
       "<style scoped>\n",
       "    .dataframe tbody tr th:only-of-type {\n",
       "        vertical-align: middle;\n",
       "    }\n",
       "\n",
       "    .dataframe tbody tr th {\n",
       "        vertical-align: top;\n",
       "    }\n",
       "\n",
       "    .dataframe thead th {\n",
       "        text-align: right;\n",
       "    }\n",
       "</style>\n",
       "<table border=\"1\" class=\"dataframe\">\n",
       "  <thead>\n",
       "    <tr style=\"text-align: right;\">\n",
       "      <th></th>\n",
       "      <th>publication</th>\n",
       "      <th>polarity</th>\n",
       "      <th>subjectivity</th>\n",
       "      <th>qty</th>\n",
       "    </tr>\n",
       "  </thead>\n",
       "  <tbody>\n",
       "    <tr>\n",
       "      <th>0</th>\n",
       "      <td>Breitbart</td>\n",
       "      <td>0.064679</td>\n",
       "      <td>0.419570</td>\n",
       "      <td>23781</td>\n",
       "    </tr>\n",
       "    <tr>\n",
       "      <th>8</th>\n",
       "      <td>New York Post</td>\n",
       "      <td>0.076400</td>\n",
       "      <td>0.429713</td>\n",
       "      <td>17493</td>\n",
       "    </tr>\n",
       "    <tr>\n",
       "      <th>6</th>\n",
       "      <td>NPR</td>\n",
       "      <td>0.093988</td>\n",
       "      <td>0.430609</td>\n",
       "      <td>11992</td>\n",
       "    </tr>\n",
       "    <tr>\n",
       "      <th>3</th>\n",
       "      <td>CNN</td>\n",
       "      <td>0.076864</td>\n",
       "      <td>0.414168</td>\n",
       "      <td>11488</td>\n",
       "    </tr>\n",
       "    <tr>\n",
       "      <th>13</th>\n",
       "      <td>Washington Post</td>\n",
       "      <td>0.077459</td>\n",
       "      <td>0.426643</td>\n",
       "      <td>11114</td>\n",
       "    </tr>\n",
       "    <tr>\n",
       "      <th>10</th>\n",
       "      <td>Reuters</td>\n",
       "      <td>0.059684</td>\n",
       "      <td>0.381769</td>\n",
       "      <td>10710</td>\n",
       "    </tr>\n",
       "    <tr>\n",
       "      <th>5</th>\n",
       "      <td>Guardian</td>\n",
       "      <td>0.078513</td>\n",
       "      <td>0.429406</td>\n",
       "      <td>8681</td>\n",
       "    </tr>\n",
       "    <tr>\n",
       "      <th>9</th>\n",
       "      <td>New York Times</td>\n",
       "      <td>0.081993</td>\n",
       "      <td>0.415095</td>\n",
       "      <td>7803</td>\n",
       "    </tr>\n",
       "    <tr>\n",
       "      <th>1</th>\n",
       "      <td>Business Insider</td>\n",
       "      <td>0.089265</td>\n",
       "      <td>0.430836</td>\n",
       "      <td>6757</td>\n",
       "    </tr>\n",
       "    <tr>\n",
       "      <th>7</th>\n",
       "      <td>National Review</td>\n",
       "      <td>0.081486</td>\n",
       "      <td>0.447650</td>\n",
       "      <td>6203</td>\n",
       "    </tr>\n",
       "  </tbody>\n",
       "</table>\n",
       "</div>"
      ],
      "text/plain": [
       "         publication  polarity  subjectivity    qty\n",
       "0          Breitbart  0.064679      0.419570  23781\n",
       "8      New York Post  0.076400      0.429713  17493\n",
       "6                NPR  0.093988      0.430609  11992\n",
       "3                CNN  0.076864      0.414168  11488\n",
       "13   Washington Post  0.077459      0.426643  11114\n",
       "10           Reuters  0.059684      0.381769  10710\n",
       "5           Guardian  0.078513      0.429406   8681\n",
       "9     New York Times  0.081993      0.415095   7803\n",
       "1   Business Insider  0.089265      0.430836   6757\n",
       "7    National Review  0.081486      0.447650   6203"
      ]
     },
     "execution_count": 133,
     "metadata": {},
     "output_type": "execute_result"
    }
   ],
   "source": [
    "df_publication.sort_values(['qty'], ascending=False).head(10)"
   ]
  },
  {
   "cell_type": "code",
   "execution_count": 137,
   "metadata": {},
   "outputs": [],
   "source": [
    "def plot_grouped_bar(dataframe, title):\n",
    "  barWidth = 0.25\n",
    "\n",
    "  # set height of bar\n",
    "  bars1 = dataframe.polarity\n",
    "  bars2 = dataframe.subjectivity\n",
    "\n",
    "  # Set position of bar on X axis\n",
    "  r1 = np.arange(len(bars1))\n",
    "  r2 = [x + barWidth for x in r1]\n",
    "\n",
    "  # Make the plot\n",
    "  plt.figure(figsize=(15,10))\n",
    "  plt.bar(r1, bars1, color='#F08080', width=barWidth, edgecolor='white', label='Polarity')\n",
    "  plt.bar(r2, bars2, color='#B0C4DE', width=barWidth, edgecolor='white', label='Subjectivity')\n",
    "\n",
    "  # Add xticks on the middle of the group bars\n",
    "  plt.title(title)\n",
    "  plt.xlabel('group', fontweight='bold')\n",
    "  plt.xticks([r + barWidth for r in range(len(bars1))], df.publication)\n",
    "  plt.xticks(rotation=60)\n",
    "  plt.legend()\n",
    "  plt.show()"
   ]
  },
  {
   "cell_type": "code",
   "execution_count": 138,
   "metadata": {},
   "outputs": [
    {
     "data": {
      "image/png": "[encoded data removed]",
      "text/plain": [
       "<Figure size 1080x720 with 1 Axes>"
      ]
     },
     "metadata": {},
     "output_type": "display_data"
    }
   ],
   "source": [
    "plot_grouped_bar(df_publication.sort_values(['qty'], ascending=False).head(10), \"Polarity and Subjectivity of the most Prolific Publication\")"
   ]
  },
  {
   "cell_type": "markdown",
   "metadata": {},
   "source": [
    "By means the Publication with the most articles have written around 10000 articles along the years, with a hight subjectivity an neutral polarity."
   ]
  },
  {
   "cell_type": "code",
   "execution_count": 144,
   "metadata": {},
   "outputs": [
    {
     "data": {
      "text/html": [
       "<div>\n",
       "<style scoped>\n",
       "    .dataframe tbody tr th:only-of-type {\n",
       "        vertical-align: middle;\n",
       "    }\n",
       "\n",
       "    .dataframe tbody tr th {\n",
       "        vertical-align: top;\n",
       "    }\n",
       "\n",
       "    .dataframe thead th {\n",
       "        text-align: right;\n",
       "    }\n",
       "</style>\n",
       "<table border=\"1\" class=\"dataframe\">\n",
       "  <thead>\n",
       "    <tr style=\"text-align: right;\">\n",
       "      <th></th>\n",
       "      <th>publication</th>\n",
       "      <th>polarity</th>\n",
       "      <th>subjectivity</th>\n",
       "      <th>qty</th>\n",
       "    </tr>\n",
       "  </thead>\n",
       "  <tbody>\n",
       "    <tr>\n",
       "      <th>6</th>\n",
       "      <td>NPR</td>\n",
       "      <td>0.093988</td>\n",
       "      <td>0.430609</td>\n",
       "      <td>11992</td>\n",
       "    </tr>\n",
       "    <tr>\n",
       "      <th>13</th>\n",
       "      <td>Washington Post</td>\n",
       "      <td>0.077459</td>\n",
       "      <td>0.426643</td>\n",
       "      <td>11114</td>\n",
       "    </tr>\n",
       "    <tr>\n",
       "      <th>3</th>\n",
       "      <td>CNN</td>\n",
       "      <td>0.076864</td>\n",
       "      <td>0.414168</td>\n",
       "      <td>11488</td>\n",
       "    </tr>\n",
       "    <tr>\n",
       "      <th>8</th>\n",
       "      <td>New York Post</td>\n",
       "      <td>0.076400</td>\n",
       "      <td>0.429713</td>\n",
       "      <td>17493</td>\n",
       "    </tr>\n",
       "    <tr>\n",
       "      <th>0</th>\n",
       "      <td>Breitbart</td>\n",
       "      <td>0.064679</td>\n",
       "      <td>0.419570</td>\n",
       "      <td>23781</td>\n",
       "    </tr>\n",
       "    <tr>\n",
       "      <th>10</th>\n",
       "      <td>Reuters</td>\n",
       "      <td>0.059684</td>\n",
       "      <td>0.381769</td>\n",
       "      <td>10710</td>\n",
       "    </tr>\n",
       "  </tbody>\n",
       "</table>\n",
       "</div>"
      ],
      "text/plain": [
       "        publication  polarity  subjectivity    qty\n",
       "6               NPR  0.093988      0.430609  11992\n",
       "13  Washington Post  0.077459      0.426643  11114\n",
       "3               CNN  0.076864      0.414168  11488\n",
       "8     New York Post  0.076400      0.429713  17493\n",
       "0         Breitbart  0.064679      0.419570  23781\n",
       "10          Reuters  0.059684      0.381769  10710"
      ]
     },
     "execution_count": 144,
     "metadata": {},
     "output_type": "execute_result"
    }
   ],
   "source": [
    "df_publication[df_publication.qty >10000].sort_values(['polarity'], ascending=False).head(10)"
   ]
  },
  {
   "cell_type": "code",
   "execution_count": 146,
   "metadata": {},
   "outputs": [
    {
     "data": {
      "image/png": "[encoded data removed]",
      "text/plain": [
       "<Figure size 1080x720 with 1 Axes>"
      ]
     },
     "metadata": {},
     "output_type": "display_data"
    }
   ],
   "source": [
    "plot_grouped_bar(df_publication[df_publication.qty >10000].sort_values(['polarity'], ascending=False).head(10), \"Publication with top Polarities (more of 10000 articles)\")"
   ]
  },
  {
   "cell_type": "code",
   "execution_count": 147,
   "metadata": {},
   "outputs": [
    {
     "data": {
      "image/png": "[encoded data removed]",
      "text/plain": [
       "<Figure size 1080x720 with 1 Axes>"
      ]
     },
     "metadata": {},
     "output_type": "display_data"
    }
   ],
   "source": [
    "plot_grouped_bar(df_publication[df_publication.qty >10000].sort_values(['subjectivity'], ascending=False).head(10), \"Publication with top Subjectivities (more of 10000 articles)\")"
   ]
  }
 ],
 "metadata": {
  "kernelspec": {
   "display_name": "Python 3",
   "language": "python",
   "name": "python3"
  },
  "language_info": {
   "codemirror_mode": {
    "name": "ipython",
    "version": 3
   },
   "file_extension": ".py",
   "mimetype": "text/x-python",
   "name": "python",
   "nbconvert_exporter": "python",
   "pygments_lexer": "ipython3",
   "version": "3.7.1"
  }
 },
 "nbformat": 4,
 "nbformat_minor": 2
}
